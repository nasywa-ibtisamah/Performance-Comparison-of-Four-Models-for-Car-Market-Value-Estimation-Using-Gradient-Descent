{
 "cells": [
  {
   "cell_type": "markdown",
   "metadata": {},
   "source": [
    "# Contents <a id='back'></a>\n",
    "\n",
    "* [Introduction](#intro)\n",
    "* [1. Data Overview](#data_review)\n",
    "    * [Conclusions](#data_review_conclusions)\n",
    "* [2. Data PreProcessing](#data_preprocessing)\n",
    "    * [2.1 Standardizing Column Names](#column_names)\n",
    "    * [2.2 Drop Unused Columns](#unused_columns)\n",
    "    * [2.3 Checking for Data Anomalies](#data_anomalies)\n",
    "    * [2.4 Handling Missing Values](#missing_values)\n",
    "    * [2.5 Encoding Features](#encoding_features)\n",
    "* [3. Model Training and Evaluation](#model_training_evaluation)\n",
    "    * [3.1 Splitting the dataset into a training set and a test set](#splitting_dataset)\n",
    "    * [3.2 Training Model](#training_model)\n",
    "* [General Conclusion](#end)"
   ]
  },
  {
   "cell_type": "markdown",
   "metadata": {},
   "source": [
    "# Introduction <a id='intro'></a>\n",
    "\n",
    "In this project, I will compare four models to determine which one has the lowest RMSE value along with the fastest processing time. These models are utilized to estimate the market value of cars using gradient descent techniques.\n",
    "\n",
    "\n",
    "**Objective:**\n",
    "\n",
    "Training the gradient descent model and performing hyperparameter tuning using the Root Mean Square Error (RMSE) metric to evaluate the model.\n",
    "\n",
    "**This project will comprise the following steps:**\n",
    "\n",
    "1. Data Overview\n",
    "2. Data preprocessing\n",
    "3. Model Training and Evaluation\n",
    "\n",
    "[Back to Contents](#back)"
   ]
  },
  {
   "cell_type": "markdown",
   "metadata": {},
   "source": [
    "## 1. Data Overview <a id='data_review'></a>\n",
    "\n",
    "The steps to be performed are as follows:\n",
    "1. Checking the number of rows and columns.\n",
    "2. Checking for missing values.\n",
    "3. Checking for duplicate data.\n",
    "4. Checking statistical information in columns with numerical data types.\n",
    "5. Checking values in columns with categorical data types.\n",
    "\n",
    "[Back to Contents](#back)"
   ]
  },
  {
   "cell_type": "code",
   "execution_count": 2,
   "metadata": {},
   "outputs": [],
   "source": [
    "# import library\n",
    "\n",
    "import numpy as np\n",
    "import pandas as pd\n",
    "\n",
    "import matplotlib.pyplot as plt\n",
    "import seaborn as sns\n",
    "\n",
    "import sklearn.linear_model\n",
    "\n",
    "from catboost import CatBoostRegressor\n",
    "from sklearn.ensemble import RandomForestRegressor\n",
    "from sklearn.linear_model import LinearRegression\n",
    "from sklearn.tree import DecisionTreeRegressor\n",
    "\n",
    "from sklearn.model_selection import train_test_split\n",
    "\n",
    "from sklearn.metrics import mean_squared_error\n",
    "\n",
    "import gc\n",
    "gc.enable()\n",
    "\n",
    "import warnings\n",
    "warnings.filterwarnings('ignore')\n",
    "pd.set_option('display.max_columns', 100)"
   ]
  },
  {
   "cell_type": "markdown",
   "metadata": {},
   "source": [
    "### 1.1 Data Exploration: df dataset"
   ]
  },
  {
   "cell_type": "code",
   "execution_count": 4,
   "metadata": {},
   "outputs": [],
   "source": [
    "# load dataset\n",
    "df = pd.read_csv('data/car_data.csv')"
   ]
  },
  {
   "cell_type": "code",
   "execution_count": 5,
   "metadata": {},
   "outputs": [
    {
     "data": {
      "text/plain": [
       "(354369, 16)"
      ]
     },
     "execution_count": 5,
     "metadata": {},
     "output_type": "execute_result"
    }
   ],
   "source": [
    "df.shape"
   ]
  },
  {
   "cell_type": "code",
   "execution_count": 6,
   "metadata": {
    "scrolled": true
   },
   "outputs": [
    {
     "data": {
      "text/html": [
       "<div>\n",
       "<style scoped>\n",
       "    .dataframe tbody tr th:only-of-type {\n",
       "        vertical-align: middle;\n",
       "    }\n",
       "\n",
       "    .dataframe tbody tr th {\n",
       "        vertical-align: top;\n",
       "    }\n",
       "\n",
       "    .dataframe thead th {\n",
       "        text-align: right;\n",
       "    }\n",
       "</style>\n",
       "<table border=\"1\" class=\"dataframe\">\n",
       "  <thead>\n",
       "    <tr style=\"text-align: right;\">\n",
       "      <th></th>\n",
       "      <th>DateCrawled</th>\n",
       "      <th>Price</th>\n",
       "      <th>VehicleType</th>\n",
       "      <th>RegistrationYear</th>\n",
       "      <th>Gearbox</th>\n",
       "      <th>Power</th>\n",
       "      <th>Model</th>\n",
       "      <th>Mileage</th>\n",
       "      <th>RegistrationMonth</th>\n",
       "      <th>FuelType</th>\n",
       "      <th>Brand</th>\n",
       "      <th>NotRepaired</th>\n",
       "      <th>DateCreated</th>\n",
       "      <th>NumberOfPictures</th>\n",
       "      <th>PostalCode</th>\n",
       "      <th>LastSeen</th>\n",
       "    </tr>\n",
       "  </thead>\n",
       "  <tbody>\n",
       "    <tr>\n",
       "      <th>91400</th>\n",
       "      <td>03/04/2016 12:52</td>\n",
       "      <td>5</td>\n",
       "      <td>small</td>\n",
       "      <td>1999</td>\n",
       "      <td>manual</td>\n",
       "      <td>105</td>\n",
       "      <td>bravo</td>\n",
       "      <td>150000</td>\n",
       "      <td>4</td>\n",
       "      <td>gasoline</td>\n",
       "      <td>fiat</td>\n",
       "      <td>yes</td>\n",
       "      <td>03/04/2016 00:00</td>\n",
       "      <td>0</td>\n",
       "      <td>97529</td>\n",
       "      <td>05/04/2016 11:44</td>\n",
       "    </tr>\n",
       "    <tr>\n",
       "      <th>132802</th>\n",
       "      <td>11/03/2016 06:36</td>\n",
       "      <td>499</td>\n",
       "      <td>NaN</td>\n",
       "      <td>1970</td>\n",
       "      <td>manual</td>\n",
       "      <td>26</td>\n",
       "      <td>NaN</td>\n",
       "      <td>50000</td>\n",
       "      <td>0</td>\n",
       "      <td>NaN</td>\n",
       "      <td>trabant</td>\n",
       "      <td>NaN</td>\n",
       "      <td>11/03/2016 00:00</td>\n",
       "      <td>0</td>\n",
       "      <td>91332</td>\n",
       "      <td>06/04/2016 09:17</td>\n",
       "    </tr>\n",
       "    <tr>\n",
       "      <th>92940</th>\n",
       "      <td>03/04/2016 09:49</td>\n",
       "      <td>1450</td>\n",
       "      <td>sedan</td>\n",
       "      <td>2001</td>\n",
       "      <td>auto</td>\n",
       "      <td>0</td>\n",
       "      <td>astra</td>\n",
       "      <td>125000</td>\n",
       "      <td>4</td>\n",
       "      <td>petrol</td>\n",
       "      <td>opel</td>\n",
       "      <td>NaN</td>\n",
       "      <td>03/04/2016 00:00</td>\n",
       "      <td>0</td>\n",
       "      <td>82229</td>\n",
       "      <td>07/04/2016 10:45</td>\n",
       "    </tr>\n",
       "    <tr>\n",
       "      <th>254155</th>\n",
       "      <td>22/03/2016 19:48</td>\n",
       "      <td>4500</td>\n",
       "      <td>bus</td>\n",
       "      <td>2005</td>\n",
       "      <td>manual</td>\n",
       "      <td>131</td>\n",
       "      <td>transporter</td>\n",
       "      <td>150000</td>\n",
       "      <td>3</td>\n",
       "      <td>gasoline</td>\n",
       "      <td>volkswagen</td>\n",
       "      <td>no</td>\n",
       "      <td>22/03/2016 00:00</td>\n",
       "      <td>0</td>\n",
       "      <td>6712</td>\n",
       "      <td>06/04/2016 13:15</td>\n",
       "    </tr>\n",
       "    <tr>\n",
       "      <th>318969</th>\n",
       "      <td>24/03/2016 19:48</td>\n",
       "      <td>6800</td>\n",
       "      <td>bus</td>\n",
       "      <td>2005</td>\n",
       "      <td>manual</td>\n",
       "      <td>130</td>\n",
       "      <td>sprinter</td>\n",
       "      <td>150000</td>\n",
       "      <td>5</td>\n",
       "      <td>gasoline</td>\n",
       "      <td>mercedes_benz</td>\n",
       "      <td>no</td>\n",
       "      <td>24/03/2016 00:00</td>\n",
       "      <td>0</td>\n",
       "      <td>52222</td>\n",
       "      <td>05/04/2016 12:16</td>\n",
       "    </tr>\n",
       "    <tr>\n",
       "      <th>312896</th>\n",
       "      <td>07/03/2016 13:48</td>\n",
       "      <td>1500</td>\n",
       "      <td>sedan</td>\n",
       "      <td>2000</td>\n",
       "      <td>manual</td>\n",
       "      <td>75</td>\n",
       "      <td>golf</td>\n",
       "      <td>150000</td>\n",
       "      <td>7</td>\n",
       "      <td>petrol</td>\n",
       "      <td>volkswagen</td>\n",
       "      <td>no</td>\n",
       "      <td>04/03/2016 00:00</td>\n",
       "      <td>0</td>\n",
       "      <td>91126</td>\n",
       "      <td>09/03/2016 23:45</td>\n",
       "    </tr>\n",
       "    <tr>\n",
       "      <th>321477</th>\n",
       "      <td>29/03/2016 11:58</td>\n",
       "      <td>0</td>\n",
       "      <td>sedan</td>\n",
       "      <td>2000</td>\n",
       "      <td>manual</td>\n",
       "      <td>88</td>\n",
       "      <td>3_reihe</td>\n",
       "      <td>150000</td>\n",
       "      <td>10</td>\n",
       "      <td>petrol</td>\n",
       "      <td>mazda</td>\n",
       "      <td>no</td>\n",
       "      <td>29/03/2016 00:00</td>\n",
       "      <td>0</td>\n",
       "      <td>89547</td>\n",
       "      <td>29/03/2016 11:58</td>\n",
       "    </tr>\n",
       "    <tr>\n",
       "      <th>177613</th>\n",
       "      <td>21/03/2016 01:01</td>\n",
       "      <td>12750</td>\n",
       "      <td>sedan</td>\n",
       "      <td>2002</td>\n",
       "      <td>auto</td>\n",
       "      <td>334</td>\n",
       "      <td>a8</td>\n",
       "      <td>150000</td>\n",
       "      <td>11</td>\n",
       "      <td>petrol</td>\n",
       "      <td>audi</td>\n",
       "      <td>no</td>\n",
       "      <td>20/03/2016 00:00</td>\n",
       "      <td>0</td>\n",
       "      <td>30974</td>\n",
       "      <td>05/04/2016 22:46</td>\n",
       "    </tr>\n",
       "    <tr>\n",
       "      <th>297966</th>\n",
       "      <td>05/03/2016 21:38</td>\n",
       "      <td>1399</td>\n",
       "      <td>wagon</td>\n",
       "      <td>1999</td>\n",
       "      <td>auto</td>\n",
       "      <td>0</td>\n",
       "      <td>passat</td>\n",
       "      <td>150000</td>\n",
       "      <td>9</td>\n",
       "      <td>gasoline</td>\n",
       "      <td>volkswagen</td>\n",
       "      <td>NaN</td>\n",
       "      <td>05/03/2016 00:00</td>\n",
       "      <td>0</td>\n",
       "      <td>27356</td>\n",
       "      <td>07/04/2016 09:16</td>\n",
       "    </tr>\n",
       "    <tr>\n",
       "      <th>84820</th>\n",
       "      <td>05/04/2016 11:55</td>\n",
       "      <td>2599</td>\n",
       "      <td>sedan</td>\n",
       "      <td>2007</td>\n",
       "      <td>manual</td>\n",
       "      <td>75</td>\n",
       "      <td>punto</td>\n",
       "      <td>150000</td>\n",
       "      <td>7</td>\n",
       "      <td>gasoline</td>\n",
       "      <td>fiat</td>\n",
       "      <td>NaN</td>\n",
       "      <td>05/04/2016 00:00</td>\n",
       "      <td>0</td>\n",
       "      <td>22523</td>\n",
       "      <td>05/04/2016 11:55</td>\n",
       "    </tr>\n",
       "  </tbody>\n",
       "</table>\n",
       "</div>"
      ],
      "text/plain": [
       "             DateCrawled  Price VehicleType  RegistrationYear Gearbox  Power  \\\n",
       "91400   03/04/2016 12:52      5       small              1999  manual    105   \n",
       "132802  11/03/2016 06:36    499         NaN              1970  manual     26   \n",
       "92940   03/04/2016 09:49   1450       sedan              2001    auto      0   \n",
       "254155  22/03/2016 19:48   4500         bus              2005  manual    131   \n",
       "318969  24/03/2016 19:48   6800         bus              2005  manual    130   \n",
       "312896  07/03/2016 13:48   1500       sedan              2000  manual     75   \n",
       "321477  29/03/2016 11:58      0       sedan              2000  manual     88   \n",
       "177613  21/03/2016 01:01  12750       sedan              2002    auto    334   \n",
       "297966  05/03/2016 21:38   1399       wagon              1999    auto      0   \n",
       "84820   05/04/2016 11:55   2599       sedan              2007  manual     75   \n",
       "\n",
       "              Model  Mileage  RegistrationMonth  FuelType          Brand  \\\n",
       "91400         bravo   150000                  4  gasoline           fiat   \n",
       "132802          NaN    50000                  0       NaN        trabant   \n",
       "92940         astra   125000                  4    petrol           opel   \n",
       "254155  transporter   150000                  3  gasoline     volkswagen   \n",
       "318969     sprinter   150000                  5  gasoline  mercedes_benz   \n",
       "312896         golf   150000                  7    petrol     volkswagen   \n",
       "321477      3_reihe   150000                 10    petrol          mazda   \n",
       "177613           a8   150000                 11    petrol           audi   \n",
       "297966       passat   150000                  9  gasoline     volkswagen   \n",
       "84820         punto   150000                  7  gasoline           fiat   \n",
       "\n",
       "       NotRepaired       DateCreated  NumberOfPictures  PostalCode  \\\n",
       "91400          yes  03/04/2016 00:00                 0       97529   \n",
       "132802         NaN  11/03/2016 00:00                 0       91332   \n",
       "92940          NaN  03/04/2016 00:00                 0       82229   \n",
       "254155          no  22/03/2016 00:00                 0        6712   \n",
       "318969          no  24/03/2016 00:00                 0       52222   \n",
       "312896          no  04/03/2016 00:00                 0       91126   \n",
       "321477          no  29/03/2016 00:00                 0       89547   \n",
       "177613          no  20/03/2016 00:00                 0       30974   \n",
       "297966         NaN  05/03/2016 00:00                 0       27356   \n",
       "84820          NaN  05/04/2016 00:00                 0       22523   \n",
       "\n",
       "                LastSeen  \n",
       "91400   05/04/2016 11:44  \n",
       "132802  06/04/2016 09:17  \n",
       "92940   07/04/2016 10:45  \n",
       "254155  06/04/2016 13:15  \n",
       "318969  05/04/2016 12:16  \n",
       "312896  09/03/2016 23:45  \n",
       "321477  29/03/2016 11:58  \n",
       "177613  05/04/2016 22:46  \n",
       "297966  07/04/2016 09:16  \n",
       "84820   05/04/2016 11:55  "
      ]
     },
     "execution_count": 6,
     "metadata": {},
     "output_type": "execute_result"
    }
   ],
   "source": [
    "df.sample(10)"
   ]
  },
  {
   "cell_type": "code",
   "execution_count": 7,
   "metadata": {},
   "outputs": [
    {
     "name": "stdout",
     "output_type": "stream",
     "text": [
      "<class 'pandas.core.frame.DataFrame'>\n",
      "RangeIndex: 354369 entries, 0 to 354368\n",
      "Data columns (total 16 columns):\n",
      " #   Column             Non-Null Count   Dtype \n",
      "---  ------             --------------   ----- \n",
      " 0   DateCrawled        354369 non-null  object\n",
      " 1   Price              354369 non-null  int64 \n",
      " 2   VehicleType        316879 non-null  object\n",
      " 3   RegistrationYear   354369 non-null  int64 \n",
      " 4   Gearbox            334536 non-null  object\n",
      " 5   Power              354369 non-null  int64 \n",
      " 6   Model              334664 non-null  object\n",
      " 7   Mileage            354369 non-null  int64 \n",
      " 8   RegistrationMonth  354369 non-null  int64 \n",
      " 9   FuelType           321474 non-null  object\n",
      " 10  Brand              354369 non-null  object\n",
      " 11  NotRepaired        283215 non-null  object\n",
      " 12  DateCreated        354369 non-null  object\n",
      " 13  NumberOfPictures   354369 non-null  int64 \n",
      " 14  PostalCode         354369 non-null  int64 \n",
      " 15  LastSeen           354369 non-null  object\n",
      "dtypes: int64(7), object(9)\n",
      "memory usage: 43.3+ MB\n"
     ]
    }
   ],
   "source": [
    "df.info()"
   ]
  },
  {
   "cell_type": "code",
   "execution_count": 8,
   "metadata": {},
   "outputs": [
    {
     "data": {
      "text/plain": [
       "DateCrawled           0.000000\n",
       "Price                 0.000000\n",
       "RegistrationYear      0.000000\n",
       "Power                 0.000000\n",
       "Mileage               0.000000\n",
       "RegistrationMonth     0.000000\n",
       "Brand                 0.000000\n",
       "DateCreated           0.000000\n",
       "NumberOfPictures      0.000000\n",
       "PostalCode            0.000000\n",
       "LastSeen              0.000000\n",
       "Model                 5.560588\n",
       "Gearbox               5.596709\n",
       "FuelType              9.282697\n",
       "VehicleType          10.579368\n",
       "NotRepaired          20.079070\n",
       "dtype: float64"
      ]
     },
     "execution_count": 8,
     "metadata": {},
     "output_type": "execute_result"
    }
   ],
   "source": [
    "# checking missing values\n",
    "(df.isnull().sum() / len(df) * 100).sort_values()"
   ]
  },
  {
   "cell_type": "code",
   "execution_count": 10,
   "metadata": {},
   "outputs": [
    {
     "data": {
      "text/plain": [
       "<Axes: >"
      ]
     },
     "execution_count": 10,
     "metadata": {},
     "output_type": "execute_result"
    },
    {
     "data": {
      "image/png": "[encoded data removed]",
      "text/plain": [
       "<Figure size 1000x600 with 2 Axes>"
      ]
     },
     "metadata": {},
     "output_type": "display_data"
    }
   ],
   "source": [
    "# data visualization for missing values\n",
    "plt.figure(figsize=(10,6))\n",
    "sns.heatmap(df.isna().transpose(),\n",
    "            cmap=\"YlGnBu\",\n",
    "            cbar_kws={'label': 'Missing Data'})"
   ]
  },
  {
   "cell_type": "code",
   "execution_count": 11,
   "metadata": {},
   "outputs": [
    {
     "data": {
      "text/html": [
       "<div>\n",
       "<style scoped>\n",
       "    .dataframe tbody tr th:only-of-type {\n",
       "        vertical-align: middle;\n",
       "    }\n",
       "\n",
       "    .dataframe tbody tr th {\n",
       "        vertical-align: top;\n",
       "    }\n",
       "\n",
       "    .dataframe thead th {\n",
       "        text-align: right;\n",
       "    }\n",
       "</style>\n",
       "<table border=\"1\" class=\"dataframe\">\n",
       "  <thead>\n",
       "    <tr style=\"text-align: right;\">\n",
       "      <th></th>\n",
       "      <th>Price</th>\n",
       "      <th>RegistrationYear</th>\n",
       "      <th>Power</th>\n",
       "      <th>Mileage</th>\n",
       "      <th>RegistrationMonth</th>\n",
       "      <th>NumberOfPictures</th>\n",
       "      <th>PostalCode</th>\n",
       "    </tr>\n",
       "  </thead>\n",
       "  <tbody>\n",
       "    <tr>\n",
       "      <th>count</th>\n",
       "      <td>354369.000000</td>\n",
       "      <td>354369.000000</td>\n",
       "      <td>354369.000000</td>\n",
       "      <td>354369.000000</td>\n",
       "      <td>354369.000000</td>\n",
       "      <td>354369.0</td>\n",
       "      <td>354369.000000</td>\n",
       "    </tr>\n",
       "    <tr>\n",
       "      <th>mean</th>\n",
       "      <td>4416.656776</td>\n",
       "      <td>2004.234448</td>\n",
       "      <td>110.094337</td>\n",
       "      <td>128211.172535</td>\n",
       "      <td>5.714645</td>\n",
       "      <td>0.0</td>\n",
       "      <td>50508.689087</td>\n",
       "    </tr>\n",
       "    <tr>\n",
       "      <th>std</th>\n",
       "      <td>4514.158514</td>\n",
       "      <td>90.227958</td>\n",
       "      <td>189.850405</td>\n",
       "      <td>37905.341530</td>\n",
       "      <td>3.726421</td>\n",
       "      <td>0.0</td>\n",
       "      <td>25783.096248</td>\n",
       "    </tr>\n",
       "    <tr>\n",
       "      <th>min</th>\n",
       "      <td>0.000000</td>\n",
       "      <td>1000.000000</td>\n",
       "      <td>0.000000</td>\n",
       "      <td>5000.000000</td>\n",
       "      <td>0.000000</td>\n",
       "      <td>0.0</td>\n",
       "      <td>1067.000000</td>\n",
       "    </tr>\n",
       "    <tr>\n",
       "      <th>25%</th>\n",
       "      <td>1050.000000</td>\n",
       "      <td>1999.000000</td>\n",
       "      <td>69.000000</td>\n",
       "      <td>125000.000000</td>\n",
       "      <td>3.000000</td>\n",
       "      <td>0.0</td>\n",
       "      <td>30165.000000</td>\n",
       "    </tr>\n",
       "    <tr>\n",
       "      <th>50%</th>\n",
       "      <td>2700.000000</td>\n",
       "      <td>2003.000000</td>\n",
       "      <td>105.000000</td>\n",
       "      <td>150000.000000</td>\n",
       "      <td>6.000000</td>\n",
       "      <td>0.0</td>\n",
       "      <td>49413.000000</td>\n",
       "    </tr>\n",
       "    <tr>\n",
       "      <th>75%</th>\n",
       "      <td>6400.000000</td>\n",
       "      <td>2008.000000</td>\n",
       "      <td>143.000000</td>\n",
       "      <td>150000.000000</td>\n",
       "      <td>9.000000</td>\n",
       "      <td>0.0</td>\n",
       "      <td>71083.000000</td>\n",
       "    </tr>\n",
       "    <tr>\n",
       "      <th>max</th>\n",
       "      <td>20000.000000</td>\n",
       "      <td>9999.000000</td>\n",
       "      <td>20000.000000</td>\n",
       "      <td>150000.000000</td>\n",
       "      <td>12.000000</td>\n",
       "      <td>0.0</td>\n",
       "      <td>99998.000000</td>\n",
       "    </tr>\n",
       "  </tbody>\n",
       "</table>\n",
       "</div>"
      ],
      "text/plain": [
       "               Price  RegistrationYear          Power        Mileage  \\\n",
       "count  354369.000000     354369.000000  354369.000000  354369.000000   \n",
       "mean     4416.656776       2004.234448     110.094337  128211.172535   \n",
       "std      4514.158514         90.227958     189.850405   37905.341530   \n",
       "min         0.000000       1000.000000       0.000000    5000.000000   \n",
       "25%      1050.000000       1999.000000      69.000000  125000.000000   \n",
       "50%      2700.000000       2003.000000     105.000000  150000.000000   \n",
       "75%      6400.000000       2008.000000     143.000000  150000.000000   \n",
       "max     20000.000000       9999.000000   20000.000000  150000.000000   \n",
       "\n",
       "       RegistrationMonth  NumberOfPictures     PostalCode  \n",
       "count      354369.000000          354369.0  354369.000000  \n",
       "mean            5.714645               0.0   50508.689087  \n",
       "std             3.726421               0.0   25783.096248  \n",
       "min             0.000000               0.0    1067.000000  \n",
       "25%             3.000000               0.0   30165.000000  \n",
       "50%             6.000000               0.0   49413.000000  \n",
       "75%             9.000000               0.0   71083.000000  \n",
       "max            12.000000               0.0   99998.000000  "
      ]
     },
     "execution_count": 11,
     "metadata": {},
     "output_type": "execute_result"
    }
   ],
   "source": [
    "# understanding statistical information from numerical columns\n",
    "df.describe()"
   ]
  },
  {
   "cell_type": "code",
   "execution_count": 13,
   "metadata": {},
   "outputs": [
    {
     "data": {
      "text/plain": [
       "NumberOfPictures\n",
       "0    354369\n",
       "Name: count, dtype: int64"
      ]
     },
     "execution_count": 13,
     "metadata": {},
     "output_type": "execute_result"
    }
   ],
   "source": [
    "# constant column\n",
    "df['NumberOfPictures'].value_counts()"
   ]
  },
  {
   "cell_type": "code",
   "execution_count": 18,
   "metadata": {
    "scrolled": true
   },
   "outputs": [
    {
     "name": "stdout",
     "output_type": "stream",
     "text": [
      "Price\n",
      "Axes(0.125,0.11;0.775x0.77)\n"
     ]
    },
    {
     "data": {
      "image/png": "[encoded data removed]",
      "text/plain": [
       "<Figure size 640x480 with 1 Axes>"
      ]
     },
     "metadata": {},
     "output_type": "display_data"
    },
    {
     "name": "stdout",
     "output_type": "stream",
     "text": [
      "\n",
      "RegistrationYear\n",
      "Axes(0.125,0.11;0.775x0.77)\n"
     ]
    },
    {
     "data": {
      "image/png": "[encoded data removed]",
      "text/plain": [
       "<Figure size 640x480 with 1 Axes>"
      ]
     },
     "metadata": {},
     "output_type": "display_data"
    },
    {
     "name": "stdout",
     "output_type": "stream",
     "text": [
      "\n",
      "Power\n",
      "Axes(0.125,0.11;0.775x0.77)\n"
     ]
    },
    {
     "data": {
      "image/png": "[encoded data removed]",
      "text/plain": [
       "<Figure size 640x480 with 1 Axes>"
      ]
     },
     "metadata": {},
     "output_type": "display_data"
    },
    {
     "name": "stdout",
     "output_type": "stream",
     "text": [
      "\n",
      "Mileage\n",
      "Axes(0.125,0.11;0.775x0.77)\n"
     ]
    },
    {
     "data": {
      "image/png": "[encoded data removed]",
      "text/plain": [
       "<Figure size 640x480 with 1 Axes>"
      ]
     },
     "metadata": {},
     "output_type": "display_data"
    },
    {
     "name": "stdout",
     "output_type": "stream",
     "text": [
      "\n"
     ]
    }
   ],
   "source": [
    "# checking outliers in numerical columns that will be used\n",
    "columns_outliers = ['Price', 'RegistrationYear', 'Power', 'Mileage']\n",
    "for column in columns_outliers:\n",
    "    print(column)\n",
    "    print(sns.boxplot(df[column]))\n",
    "    plt.show()\n",
    "    print()"
   ]
  },
  {
   "cell_type": "markdown",
   "metadata": {},
   "source": [
    "### 1.2 Conclusion of data overview step\n",
    "\n",
    "1. Column names are not standardized. They will be converted to lowercase.\n",
    "2. There are missing values in the following columns: Model (5.5%), Gearbox (5.5%), FuelType (9.28%), VehicleType (10.5%), NotRepaired (10%).\n",
    "3. Columns that are not used will be dropped, namely: date_crawled, date_created, number_of_pictures, postal_code, last_seen, registration_month.\n",
    "4. The column number_of_pictures will be dropped as it contains constant values.\n",
    "5. In the numerical columns, there are some anomalies observed:\n",
    "    - price with a value of 0\n",
    "    - registration_year with values 4000, 6000, 8000, 9999\n",
    "    - power with a value of 0, which should not have values equal to 0.\n",
    "\n",
    "[Back to Contents](#back)"
   ]
  },
  {
   "cell_type": "markdown",
   "metadata": {},
   "source": [
    "## 2. Data Preprocessing <a id='data_preprocessing'></a>"
   ]
  },
  {
   "cell_type": "markdown",
   "metadata": {},
   "source": [
    "### 2.1 Standardizing Column Names <a id='column_names'></a>"
   ]
  },
  {
   "cell_type": "code",
   "execution_count": 19,
   "metadata": {},
   "outputs": [],
   "source": [
    "df.columns = df.columns.str.lower()"
   ]
  },
  {
   "cell_type": "code",
   "execution_count": 20,
   "metadata": {},
   "outputs": [
    {
     "data": {
      "text/plain": [
       "Index(['datecrawled', 'price', 'vehicletype', 'registrationyear', 'gearbox',\n",
       "       'power', 'model', 'mileage', 'registrationmonth', 'fueltype', 'brand',\n",
       "       'notrepaired', 'datecreated', 'numberofpictures', 'postalcode',\n",
       "       'lastseen'],\n",
       "      dtype='object')"
      ]
     },
     "execution_count": 20,
     "metadata": {},
     "output_type": "execute_result"
    }
   ],
   "source": [
    "df.columns"
   ]
  },
  {
   "cell_type": "code",
   "execution_count": 21,
   "metadata": {},
   "outputs": [],
   "source": [
    "df = df.rename(columns={\n",
    "    'datecrawled': 'date_crawled',\n",
    "    'vehicletype': 'vehicle_type',\n",
    "    'registrationyear': 'registration_year',\n",
    "    'registrationmonth': 'registration_month',\n",
    "    'fueltype': 'fuel_type',\n",
    "    'notrepaired': 'not_repaired',\n",
    "    'datecreated': 'date_created',    \n",
    "    'numberofpictures': 'number_of_pictures',\n",
    "    'postalcode': 'postal_code',\n",
    "    'lastseen': 'last_seen'})"
   ]
  },
  {
   "cell_type": "markdown",
   "metadata": {},
   "source": [
    "### 2.2 Drop Unused Columns <a id='unused_columns'></a>"
   ]
  },
  {
   "cell_type": "code",
   "execution_count": 22,
   "metadata": {},
   "outputs": [],
   "source": [
    "df = df.drop(['date_crawled', 'date_created', 'registration_month', 'number_of_pictures', 'postal_code', 'last_seen'], axis = 1)"
   ]
  },
  {
   "cell_type": "markdown",
   "metadata": {},
   "source": [
    "### 2.3 Checking and Fixing Data Anomalies <a id='data_anomalies'></a>"
   ]
  },
  {
   "cell_type": "markdown",
   "metadata": {},
   "source": [
    "#### 2.3.1 Checking for data anomalies where the price is equal to 0"
   ]
  },
  {
   "cell_type": "code",
   "execution_count": 23,
   "metadata": {},
   "outputs": [
    {
     "data": {
      "text/plain": [
       "3.0397692800442475"
      ]
     },
     "execution_count": 23,
     "metadata": {},
     "output_type": "execute_result"
    }
   ],
   "source": [
    "# checking the percentage\n",
    "len(df.loc[(df['price'] == 0)]) / len(df) * 100"
   ]
  },
  {
   "cell_type": "markdown",
   "metadata": {},
   "source": [
    "#### 2.3.2 Checking for data anomalies in registration_year column"
   ]
  },
  {
   "cell_type": "code",
   "execution_count": 24,
   "metadata": {},
   "outputs": [
    {
     "data": {
      "text/plain": [
       "1.0037559718824163"
      ]
     },
     "execution_count": 24,
     "metadata": {},
     "output_type": "execute_result"
    }
   ],
   "source": [
    "len(df.loc[(df['registration_year'] > 2023 ) | (df['registration_year'] < 1980)]) / len(df) * 100"
   ]
  },
  {
   "cell_type": "markdown",
   "metadata": {},
   "source": [
    "**Findings:**\n",
    "\n",
    "1. Data will be removed for entries with a registration year above 2023 and below 1980. This will impact a small percentage of the data (1%) and will not significantly affect the analysis results.\n",
    "2. Data will be removed for entries with a power value of 0 in the respective column.\n",
    "3. Data will be removed for entries with a price value of 0 in the price column. This step is necessary to ensure accurate prediction results (as the price column is the prediction target), and this represents a small percentage of the total data (3%)."
   ]
  },
  {
   "cell_type": "code",
   "execution_count": 25,
   "metadata": {},
   "outputs": [],
   "source": [
    "df = df[df['registration_year'] > 1980]"
   ]
  },
  {
   "cell_type": "code",
   "execution_count": 26,
   "metadata": {},
   "outputs": [],
   "source": [
    "df = df[df['registration_year'] < 2024]"
   ]
  },
  {
   "cell_type": "code",
   "execution_count": 27,
   "metadata": {},
   "outputs": [],
   "source": [
    "df = df[df['power'] != 0].reset_index(drop=True)"
   ]
  },
  {
   "cell_type": "code",
   "execution_count": 28,
   "metadata": {},
   "outputs": [],
   "source": [
    "df = df[df['price'] != 0].reset_index(drop=True)"
   ]
  },
  {
   "cell_type": "code",
   "execution_count": 29,
   "metadata": {},
   "outputs": [
    {
     "data": {
      "text/plain": [
       "(304717, 10)"
      ]
     },
     "execution_count": 29,
     "metadata": {},
     "output_type": "execute_result"
    }
   ],
   "source": [
    "df.shape"
   ]
  },
  {
   "cell_type": "code",
   "execution_count": 30,
   "metadata": {},
   "outputs": [
    {
     "data": {
      "text/html": [
       "<div>\n",
       "<style scoped>\n",
       "    .dataframe tbody tr th:only-of-type {\n",
       "        vertical-align: middle;\n",
       "    }\n",
       "\n",
       "    .dataframe tbody tr th {\n",
       "        vertical-align: top;\n",
       "    }\n",
       "\n",
       "    .dataframe thead th {\n",
       "        text-align: right;\n",
       "    }\n",
       "</style>\n",
       "<table border=\"1\" class=\"dataframe\">\n",
       "  <thead>\n",
       "    <tr style=\"text-align: right;\">\n",
       "      <th></th>\n",
       "      <th>price</th>\n",
       "      <th>vehicle_type</th>\n",
       "      <th>registration_year</th>\n",
       "      <th>gearbox</th>\n",
       "      <th>power</th>\n",
       "      <th>model</th>\n",
       "      <th>mileage</th>\n",
       "      <th>fuel_type</th>\n",
       "      <th>brand</th>\n",
       "      <th>not_repaired</th>\n",
       "    </tr>\n",
       "  </thead>\n",
       "  <tbody>\n",
       "    <tr>\n",
       "      <th>0</th>\n",
       "      <td>18300</td>\n",
       "      <td>coupe</td>\n",
       "      <td>2011</td>\n",
       "      <td>manual</td>\n",
       "      <td>190</td>\n",
       "      <td>NaN</td>\n",
       "      <td>125000</td>\n",
       "      <td>gasoline</td>\n",
       "      <td>audi</td>\n",
       "      <td>yes</td>\n",
       "    </tr>\n",
       "    <tr>\n",
       "      <th>1</th>\n",
       "      <td>9800</td>\n",
       "      <td>suv</td>\n",
       "      <td>2004</td>\n",
       "      <td>auto</td>\n",
       "      <td>163</td>\n",
       "      <td>grand</td>\n",
       "      <td>125000</td>\n",
       "      <td>gasoline</td>\n",
       "      <td>jeep</td>\n",
       "      <td>NaN</td>\n",
       "    </tr>\n",
       "    <tr>\n",
       "      <th>2</th>\n",
       "      <td>1500</td>\n",
       "      <td>small</td>\n",
       "      <td>2001</td>\n",
       "      <td>manual</td>\n",
       "      <td>75</td>\n",
       "      <td>golf</td>\n",
       "      <td>150000</td>\n",
       "      <td>petrol</td>\n",
       "      <td>volkswagen</td>\n",
       "      <td>no</td>\n",
       "    </tr>\n",
       "    <tr>\n",
       "      <th>3</th>\n",
       "      <td>3600</td>\n",
       "      <td>small</td>\n",
       "      <td>2008</td>\n",
       "      <td>manual</td>\n",
       "      <td>69</td>\n",
       "      <td>fabia</td>\n",
       "      <td>90000</td>\n",
       "      <td>gasoline</td>\n",
       "      <td>skoda</td>\n",
       "      <td>no</td>\n",
       "    </tr>\n",
       "    <tr>\n",
       "      <th>4</th>\n",
       "      <td>650</td>\n",
       "      <td>sedan</td>\n",
       "      <td>1995</td>\n",
       "      <td>manual</td>\n",
       "      <td>102</td>\n",
       "      <td>3er</td>\n",
       "      <td>150000</td>\n",
       "      <td>petrol</td>\n",
       "      <td>bmw</td>\n",
       "      <td>yes</td>\n",
       "    </tr>\n",
       "    <tr>\n",
       "      <th>...</th>\n",
       "      <td>...</td>\n",
       "      <td>...</td>\n",
       "      <td>...</td>\n",
       "      <td>...</td>\n",
       "      <td>...</td>\n",
       "      <td>...</td>\n",
       "      <td>...</td>\n",
       "      <td>...</td>\n",
       "      <td>...</td>\n",
       "      <td>...</td>\n",
       "    </tr>\n",
       "    <tr>\n",
       "      <th>304712</th>\n",
       "      <td>5250</td>\n",
       "      <td>NaN</td>\n",
       "      <td>2016</td>\n",
       "      <td>auto</td>\n",
       "      <td>150</td>\n",
       "      <td>159</td>\n",
       "      <td>150000</td>\n",
       "      <td>NaN</td>\n",
       "      <td>alfa_romeo</td>\n",
       "      <td>no</td>\n",
       "    </tr>\n",
       "    <tr>\n",
       "      <th>304713</th>\n",
       "      <td>3200</td>\n",
       "      <td>sedan</td>\n",
       "      <td>2004</td>\n",
       "      <td>manual</td>\n",
       "      <td>225</td>\n",
       "      <td>leon</td>\n",
       "      <td>150000</td>\n",
       "      <td>petrol</td>\n",
       "      <td>seat</td>\n",
       "      <td>yes</td>\n",
       "    </tr>\n",
       "    <tr>\n",
       "      <th>304714</th>\n",
       "      <td>1199</td>\n",
       "      <td>convertible</td>\n",
       "      <td>2000</td>\n",
       "      <td>auto</td>\n",
       "      <td>101</td>\n",
       "      <td>fortwo</td>\n",
       "      <td>125000</td>\n",
       "      <td>petrol</td>\n",
       "      <td>smart</td>\n",
       "      <td>no</td>\n",
       "    </tr>\n",
       "    <tr>\n",
       "      <th>304715</th>\n",
       "      <td>9200</td>\n",
       "      <td>bus</td>\n",
       "      <td>1996</td>\n",
       "      <td>manual</td>\n",
       "      <td>102</td>\n",
       "      <td>transporter</td>\n",
       "      <td>150000</td>\n",
       "      <td>gasoline</td>\n",
       "      <td>volkswagen</td>\n",
       "      <td>no</td>\n",
       "    </tr>\n",
       "    <tr>\n",
       "      <th>304716</th>\n",
       "      <td>3400</td>\n",
       "      <td>wagon</td>\n",
       "      <td>2002</td>\n",
       "      <td>manual</td>\n",
       "      <td>100</td>\n",
       "      <td>golf</td>\n",
       "      <td>150000</td>\n",
       "      <td>gasoline</td>\n",
       "      <td>volkswagen</td>\n",
       "      <td>NaN</td>\n",
       "    </tr>\n",
       "  </tbody>\n",
       "</table>\n",
       "<p>304717 rows × 10 columns</p>\n",
       "</div>"
      ],
      "text/plain": [
       "        price vehicle_type  registration_year gearbox  power        model  \\\n",
       "0       18300        coupe               2011  manual    190          NaN   \n",
       "1        9800          suv               2004    auto    163        grand   \n",
       "2        1500        small               2001  manual     75         golf   \n",
       "3        3600        small               2008  manual     69        fabia   \n",
       "4         650        sedan               1995  manual    102          3er   \n",
       "...       ...          ...                ...     ...    ...          ...   \n",
       "304712   5250          NaN               2016    auto    150          159   \n",
       "304713   3200        sedan               2004  manual    225         leon   \n",
       "304714   1199  convertible               2000    auto    101       fortwo   \n",
       "304715   9200          bus               1996  manual    102  transporter   \n",
       "304716   3400        wagon               2002  manual    100         golf   \n",
       "\n",
       "        mileage fuel_type       brand not_repaired  \n",
       "0        125000  gasoline        audi          yes  \n",
       "1        125000  gasoline        jeep          NaN  \n",
       "2        150000    petrol  volkswagen           no  \n",
       "3         90000  gasoline       skoda           no  \n",
       "4        150000    petrol         bmw          yes  \n",
       "...         ...       ...         ...          ...  \n",
       "304712   150000       NaN  alfa_romeo           no  \n",
       "304713   150000    petrol        seat          yes  \n",
       "304714   125000    petrol       smart           no  \n",
       "304715   150000  gasoline  volkswagen           no  \n",
       "304716   150000  gasoline  volkswagen          NaN  \n",
       "\n",
       "[304717 rows x 10 columns]"
      ]
     },
     "execution_count": 30,
     "metadata": {},
     "output_type": "execute_result"
    }
   ],
   "source": [
    "df"
   ]
  },
  {
   "cell_type": "markdown",
   "metadata": {},
   "source": [
    "### 2.4 Handling Missing Values <a id='missing_values'></a>"
   ]
  },
  {
   "cell_type": "code",
   "execution_count": 31,
   "metadata": {},
   "outputs": [
    {
     "data": {
      "text/plain": [
       "price                 0.000000\n",
       "registration_year     0.000000\n",
       "power                 0.000000\n",
       "mileage               0.000000\n",
       "brand                 0.000000\n",
       "gearbox               1.958210\n",
       "model                 3.933486\n",
       "fuel_type             6.438761\n",
       "vehicle_type          6.969089\n",
       "not_repaired         15.312897\n",
       "dtype: float64"
      ]
     },
     "execution_count": 31,
     "metadata": {},
     "output_type": "execute_result"
    }
   ],
   "source": [
    "(df.isnull().sum() / len(df) * 100).sort_values()"
   ]
  },
  {
   "cell_type": "markdown",
   "metadata": {},
   "source": [
    "Columns with missing values are:\n",
    "1. model\n",
    "2. gearbox\n",
    "3. fuel_type\n",
    "4. vehicle_type\n",
    "5. not_repaired\n",
    "\n",
    "**Action to do:**\n",
    "\n",
    "Since the percentage is below 20%, the data will not be dropped. Instead, it will be filled with the value 'unknown'."
   ]
  },
  {
   "cell_type": "code",
   "execution_count": 32,
   "metadata": {},
   "outputs": [],
   "source": [
    "df = df.fillna('unknown')"
   ]
  },
  {
   "cell_type": "code",
   "execution_count": 33,
   "metadata": {},
   "outputs": [
    {
     "data": {
      "text/plain": [
       "price                0\n",
       "vehicle_type         0\n",
       "registration_year    0\n",
       "gearbox              0\n",
       "power                0\n",
       "model                0\n",
       "mileage              0\n",
       "fuel_type            0\n",
       "brand                0\n",
       "not_repaired         0\n",
       "dtype: int64"
      ]
     },
     "execution_count": 33,
     "metadata": {},
     "output_type": "execute_result"
    }
   ],
   "source": [
    "df.isnull().sum()"
   ]
  },
  {
   "cell_type": "markdown",
   "metadata": {},
   "source": [
    "### 2.5 Encoding Features <a id='encoding_features'></a>"
   ]
  },
  {
   "cell_type": "code",
   "execution_count": 34,
   "metadata": {},
   "outputs": [],
   "source": [
    "categorical_features = [\n",
    "    'vehicle_type',\n",
    "    'gearbox',\n",
    "    'model',\n",
    "    'fuel_type',\n",
    "    'brand',\n",
    "    'not_repaired'\n",
    "]"
   ]
  },
  {
   "cell_type": "code",
   "execution_count": 35,
   "metadata": {},
   "outputs": [
    {
     "name": "stdout",
     "output_type": "stream",
     "text": [
      "features vehicle_type 9\n",
      "features gearbox 3\n",
      "features model 249\n",
      "features fuel_type 8\n",
      "features brand 40\n",
      "features not_repaired 3\n"
     ]
    }
   ],
   "source": [
    "for feature in categorical_features:\n",
    "    print(f'features {feature} {len(df[feature].value_counts())}')"
   ]
  },
  {
   "cell_type": "markdown",
   "metadata": {},
   "source": [
    "**Findings:**\n",
    "\n",
    "Due to the large number of values in the 'model' and 'brand' columns, both of these columns will be dropped. The consideration is that if One-Hot Encoding (OHE) is applied, it would result in an excessive number of columns."
   ]
  },
  {
   "cell_type": "code",
   "execution_count": 36,
   "metadata": {},
   "outputs": [],
   "source": [
    "df_ohe = df.drop(['model', 'brand'], axis = 1)\n",
    "df_ohe = pd.get_dummies(df_ohe)"
   ]
  },
  {
   "cell_type": "code",
   "execution_count": 37,
   "metadata": {},
   "outputs": [
    {
     "data": {
      "text/plain": [
       "(304717, 27)"
      ]
     },
     "execution_count": 37,
     "metadata": {},
     "output_type": "execute_result"
    }
   ],
   "source": [
    "df_ohe.shape"
   ]
  },
  {
   "cell_type": "code",
   "execution_count": 38,
   "metadata": {},
   "outputs": [
    {
     "data": {
      "text/html": [
       "<div>\n",
       "<style scoped>\n",
       "    .dataframe tbody tr th:only-of-type {\n",
       "        vertical-align: middle;\n",
       "    }\n",
       "\n",
       "    .dataframe tbody tr th {\n",
       "        vertical-align: top;\n",
       "    }\n",
       "\n",
       "    .dataframe thead th {\n",
       "        text-align: right;\n",
       "    }\n",
       "</style>\n",
       "<table border=\"1\" class=\"dataframe\">\n",
       "  <thead>\n",
       "    <tr style=\"text-align: right;\">\n",
       "      <th></th>\n",
       "      <th>price</th>\n",
       "      <th>registration_year</th>\n",
       "      <th>power</th>\n",
       "      <th>mileage</th>\n",
       "      <th>vehicle_type_bus</th>\n",
       "      <th>vehicle_type_convertible</th>\n",
       "      <th>vehicle_type_coupe</th>\n",
       "      <th>vehicle_type_other</th>\n",
       "      <th>vehicle_type_sedan</th>\n",
       "      <th>vehicle_type_small</th>\n",
       "      <th>vehicle_type_suv</th>\n",
       "      <th>vehicle_type_unknown</th>\n",
       "      <th>vehicle_type_wagon</th>\n",
       "      <th>gearbox_auto</th>\n",
       "      <th>gearbox_manual</th>\n",
       "      <th>gearbox_unknown</th>\n",
       "      <th>fuel_type_cng</th>\n",
       "      <th>fuel_type_electric</th>\n",
       "      <th>fuel_type_gasoline</th>\n",
       "      <th>fuel_type_hybrid</th>\n",
       "      <th>fuel_type_lpg</th>\n",
       "      <th>fuel_type_other</th>\n",
       "      <th>fuel_type_petrol</th>\n",
       "      <th>fuel_type_unknown</th>\n",
       "      <th>not_repaired_no</th>\n",
       "      <th>not_repaired_unknown</th>\n",
       "      <th>not_repaired_yes</th>\n",
       "    </tr>\n",
       "  </thead>\n",
       "  <tbody>\n",
       "    <tr>\n",
       "      <th>219280</th>\n",
       "      <td>999</td>\n",
       "      <td>1996</td>\n",
       "      <td>60</td>\n",
       "      <td>150000</td>\n",
       "      <td>False</td>\n",
       "      <td>False</td>\n",
       "      <td>False</td>\n",
       "      <td>False</td>\n",
       "      <td>False</td>\n",
       "      <td>True</td>\n",
       "      <td>False</td>\n",
       "      <td>False</td>\n",
       "      <td>False</td>\n",
       "      <td>False</td>\n",
       "      <td>True</td>\n",
       "      <td>False</td>\n",
       "      <td>False</td>\n",
       "      <td>False</td>\n",
       "      <td>False</td>\n",
       "      <td>False</td>\n",
       "      <td>False</td>\n",
       "      <td>False</td>\n",
       "      <td>True</td>\n",
       "      <td>False</td>\n",
       "      <td>True</td>\n",
       "      <td>False</td>\n",
       "      <td>False</td>\n",
       "    </tr>\n",
       "    <tr>\n",
       "      <th>198076</th>\n",
       "      <td>12500</td>\n",
       "      <td>2008</td>\n",
       "      <td>170</td>\n",
       "      <td>100000</td>\n",
       "      <td>False</td>\n",
       "      <td>True</td>\n",
       "      <td>False</td>\n",
       "      <td>False</td>\n",
       "      <td>False</td>\n",
       "      <td>False</td>\n",
       "      <td>False</td>\n",
       "      <td>False</td>\n",
       "      <td>False</td>\n",
       "      <td>False</td>\n",
       "      <td>True</td>\n",
       "      <td>False</td>\n",
       "      <td>False</td>\n",
       "      <td>False</td>\n",
       "      <td>False</td>\n",
       "      <td>False</td>\n",
       "      <td>False</td>\n",
       "      <td>False</td>\n",
       "      <td>True</td>\n",
       "      <td>False</td>\n",
       "      <td>True</td>\n",
       "      <td>False</td>\n",
       "      <td>False</td>\n",
       "    </tr>\n",
       "    <tr>\n",
       "      <th>164545</th>\n",
       "      <td>2500</td>\n",
       "      <td>2005</td>\n",
       "      <td>150</td>\n",
       "      <td>150000</td>\n",
       "      <td>False</td>\n",
       "      <td>False</td>\n",
       "      <td>False</td>\n",
       "      <td>False</td>\n",
       "      <td>True</td>\n",
       "      <td>False</td>\n",
       "      <td>False</td>\n",
       "      <td>False</td>\n",
       "      <td>False</td>\n",
       "      <td>False</td>\n",
       "      <td>True</td>\n",
       "      <td>False</td>\n",
       "      <td>False</td>\n",
       "      <td>False</td>\n",
       "      <td>False</td>\n",
       "      <td>False</td>\n",
       "      <td>False</td>\n",
       "      <td>False</td>\n",
       "      <td>True</td>\n",
       "      <td>False</td>\n",
       "      <td>False</td>\n",
       "      <td>False</td>\n",
       "      <td>True</td>\n",
       "    </tr>\n",
       "    <tr>\n",
       "      <th>294900</th>\n",
       "      <td>5750</td>\n",
       "      <td>2007</td>\n",
       "      <td>125</td>\n",
       "      <td>80000</td>\n",
       "      <td>False</td>\n",
       "      <td>True</td>\n",
       "      <td>False</td>\n",
       "      <td>False</td>\n",
       "      <td>False</td>\n",
       "      <td>False</td>\n",
       "      <td>False</td>\n",
       "      <td>False</td>\n",
       "      <td>False</td>\n",
       "      <td>False</td>\n",
       "      <td>True</td>\n",
       "      <td>False</td>\n",
       "      <td>False</td>\n",
       "      <td>False</td>\n",
       "      <td>False</td>\n",
       "      <td>False</td>\n",
       "      <td>False</td>\n",
       "      <td>False</td>\n",
       "      <td>True</td>\n",
       "      <td>False</td>\n",
       "      <td>True</td>\n",
       "      <td>False</td>\n",
       "      <td>False</td>\n",
       "    </tr>\n",
       "    <tr>\n",
       "      <th>77749</th>\n",
       "      <td>5650</td>\n",
       "      <td>2008</td>\n",
       "      <td>109</td>\n",
       "      <td>60000</td>\n",
       "      <td>False</td>\n",
       "      <td>False</td>\n",
       "      <td>False</td>\n",
       "      <td>False</td>\n",
       "      <td>False</td>\n",
       "      <td>False</td>\n",
       "      <td>False</td>\n",
       "      <td>False</td>\n",
       "      <td>True</td>\n",
       "      <td>False</td>\n",
       "      <td>True</td>\n",
       "      <td>False</td>\n",
       "      <td>True</td>\n",
       "      <td>False</td>\n",
       "      <td>False</td>\n",
       "      <td>False</td>\n",
       "      <td>False</td>\n",
       "      <td>False</td>\n",
       "      <td>False</td>\n",
       "      <td>False</td>\n",
       "      <td>True</td>\n",
       "      <td>False</td>\n",
       "      <td>False</td>\n",
       "    </tr>\n",
       "  </tbody>\n",
       "</table>\n",
       "</div>"
      ],
      "text/plain": [
       "        price  registration_year  power  mileage  vehicle_type_bus  \\\n",
       "219280    999               1996     60   150000             False   \n",
       "198076  12500               2008    170   100000             False   \n",
       "164545   2500               2005    150   150000             False   \n",
       "294900   5750               2007    125    80000             False   \n",
       "77749    5650               2008    109    60000             False   \n",
       "\n",
       "        vehicle_type_convertible  vehicle_type_coupe  vehicle_type_other  \\\n",
       "219280                     False               False               False   \n",
       "198076                      True               False               False   \n",
       "164545                     False               False               False   \n",
       "294900                      True               False               False   \n",
       "77749                      False               False               False   \n",
       "\n",
       "        vehicle_type_sedan  vehicle_type_small  vehicle_type_suv  \\\n",
       "219280               False                True             False   \n",
       "198076               False               False             False   \n",
       "164545                True               False             False   \n",
       "294900               False               False             False   \n",
       "77749                False               False             False   \n",
       "\n",
       "        vehicle_type_unknown  vehicle_type_wagon  gearbox_auto  \\\n",
       "219280                 False               False         False   \n",
       "198076                 False               False         False   \n",
       "164545                 False               False         False   \n",
       "294900                 False               False         False   \n",
       "77749                  False                True         False   \n",
       "\n",
       "        gearbox_manual  gearbox_unknown  fuel_type_cng  fuel_type_electric  \\\n",
       "219280            True            False          False               False   \n",
       "198076            True            False          False               False   \n",
       "164545            True            False          False               False   \n",
       "294900            True            False          False               False   \n",
       "77749             True            False           True               False   \n",
       "\n",
       "        fuel_type_gasoline  fuel_type_hybrid  fuel_type_lpg  fuel_type_other  \\\n",
       "219280               False             False          False            False   \n",
       "198076               False             False          False            False   \n",
       "164545               False             False          False            False   \n",
       "294900               False             False          False            False   \n",
       "77749                False             False          False            False   \n",
       "\n",
       "        fuel_type_petrol  fuel_type_unknown  not_repaired_no  \\\n",
       "219280              True              False             True   \n",
       "198076              True              False             True   \n",
       "164545              True              False            False   \n",
       "294900              True              False             True   \n",
       "77749              False              False             True   \n",
       "\n",
       "        not_repaired_unknown  not_repaired_yes  \n",
       "219280                 False             False  \n",
       "198076                 False             False  \n",
       "164545                 False              True  \n",
       "294900                 False             False  \n",
       "77749                  False             False  "
      ]
     },
     "execution_count": 38,
     "metadata": {},
     "output_type": "execute_result"
    }
   ],
   "source": [
    "df_ohe.sample(5)"
   ]
  },
  {
   "cell_type": "markdown",
   "metadata": {},
   "source": [
    "[Back to Contents](#back)"
   ]
  },
  {
   "cell_type": "markdown",
   "metadata": {},
   "source": [
    "## 3. Model Training and Evaluation <a id='model_training_evaluation'></a>"
   ]
  },
  {
   "cell_type": "markdown",
   "metadata": {},
   "source": [
    "### 3.1 Splitting the dataset into a training set and a test set <a id='splitting_dataset'></a>"
   ]
  },
  {
   "cell_type": "markdown",
   "metadata": {},
   "source": [
    "#### 3.1.1 OHE"
   ]
  },
  {
   "cell_type": "code",
   "execution_count": 39,
   "metadata": {},
   "outputs": [
    {
     "name": "stdout",
     "output_type": "stream",
     "text": [
      "(194256, 27)\n",
      "(64753, 27)\n",
      "(45708, 27)\n"
     ]
    }
   ],
   "source": [
    "df_ohe_train_valid, df_ohe_test = train_test_split(df_ohe, test_size = 0.15, random_state = 42)\n",
    "df_ohe_train, df_ohe_valid = train_test_split(df_ohe_train_valid, test_size = 0.25, random_state=42)\n",
    "\n",
    "print(df_ohe_train.shape)\n",
    "print(df_ohe_valid.shape)\n",
    "print(df_ohe_test.shape)"
   ]
  },
  {
   "cell_type": "code",
   "execution_count": 40,
   "metadata": {},
   "outputs": [],
   "source": [
    "features_train = df_ohe_train.drop(['price'], axis = 1)\n",
    "target_train = df_ohe_train['price']\n",
    "\n",
    "features_valid = df_ohe_valid.drop(['price'], axis = 1)\n",
    "target_valid = df_ohe_valid['price']\n",
    "\n",
    "features_test = df_ohe_test.drop(['price'], axis = 1)\n",
    "target_test = df_ohe_test['price']"
   ]
  },
  {
   "cell_type": "markdown",
   "metadata": {},
   "source": [
    "#### 3.1.2 Without OHE process"
   ]
  },
  {
   "cell_type": "code",
   "execution_count": 41,
   "metadata": {},
   "outputs": [],
   "source": [
    "without_OHE = df.copy()\n",
    "\n",
    "y = without_OHE['price']\n",
    "X = without_OHE.drop(['price'], axis=1)\n",
    "\n",
    "del without_OHE"
   ]
  },
  {
   "cell_type": "code",
   "execution_count": 42,
   "metadata": {},
   "outputs": [],
   "source": [
    "for c in X.columns:\n",
    "    col_type = X[c].dtype\n",
    "    if col_type == 'object' or col_type.name == 'category':\n",
    "        X[c] = X[c].astype('category')"
   ]
  },
  {
   "cell_type": "code",
   "execution_count": 43,
   "metadata": {},
   "outputs": [
    {
     "name": "stdout",
     "output_type": "stream",
     "text": [
      "<class 'pandas.core.frame.DataFrame'>\n",
      "RangeIndex: 304717 entries, 0 to 304716\n",
      "Data columns (total 9 columns):\n",
      " #   Column             Non-Null Count   Dtype   \n",
      "---  ------             --------------   -----   \n",
      " 0   vehicle_type       304717 non-null  category\n",
      " 1   registration_year  304717 non-null  int64   \n",
      " 2   gearbox            304717 non-null  category\n",
      " 3   power              304717 non-null  int64   \n",
      " 4   model              304717 non-null  category\n",
      " 5   mileage            304717 non-null  int64   \n",
      " 6   fuel_type          304717 non-null  category\n",
      " 7   brand              304717 non-null  category\n",
      " 8   not_repaired       304717 non-null  category\n",
      "dtypes: category(6), int64(3)\n",
      "memory usage: 9.0 MB\n"
     ]
    }
   ],
   "source": [
    "X.info()"
   ]
  },
  {
   "cell_type": "code",
   "execution_count": 44,
   "metadata": {},
   "outputs": [],
   "source": [
    "X_train, X_test, y_train, y_test = train_test_split(X, y, test_size=0.20, random_state=42)"
   ]
  },
  {
   "cell_type": "code",
   "execution_count": 45,
   "metadata": {},
   "outputs": [
    {
     "name": "stdout",
     "output_type": "stream",
     "text": [
      "(194256, 10)\n",
      "(64753, 10)\n",
      "(45708, 10)\n"
     ]
    }
   ],
   "source": [
    "df_train_valid, df_test = train_test_split(df, test_size = 0.15, random_state = 42)\n",
    "df_train, df_valid = train_test_split(df_train_valid, test_size = 0.25, random_state=42)\n",
    "\n",
    "print(df_train.shape)\n",
    "print(df_valid.shape)\n",
    "print(df_test.shape)"
   ]
  },
  {
   "cell_type": "code",
   "execution_count": 46,
   "metadata": {},
   "outputs": [
    {
     "data": {
      "text/plain": [
       "7658"
      ]
     },
     "execution_count": 46,
     "metadata": {},
     "output_type": "execute_result"
    }
   ],
   "source": [
    "df_features_train = df_train.drop(['price'], axis = 1)\n",
    "df_target_train = df_train['price']\n",
    "\n",
    "df_features_valid = df_valid.drop(['price'], axis = 1)\n",
    "df_target_valid = df_valid['price']\n",
    "\n",
    "df_features_test = df_test.drop(['price'], axis = 1)\n",
    "df_target_test = df_test['price']\n",
    "\n",
    "gc.collect()"
   ]
  },
  {
   "cell_type": "markdown",
   "metadata": {},
   "source": [
    "### 3.2 Training Model <a id='training_model'></a>"
   ]
  },
  {
   "cell_type": "code",
   "execution_count": 47,
   "metadata": {},
   "outputs": [],
   "source": [
    "# creating function to calculate RMSE\n",
    "def rmse(target, prediction):\n",
    "    return mean_squared_error(target, prediction)**0.5"
   ]
  },
  {
   "cell_type": "markdown",
   "metadata": {},
   "source": [
    "#### 3.2.1 Linear Regression Model"
   ]
  },
  {
   "cell_type": "code",
   "execution_count": 48,
   "metadata": {},
   "outputs": [
    {
     "name": "stdout",
     "output_type": "stream",
     "text": [
      "CPU times: user 273 ms, sys: 79.7 ms, total: 353 ms\n",
      "Wall time: 185 ms\n"
     ]
    },
    {
     "data": {
      "text/html": [
       "<style>#sk-container-id-1 {color: black;}#sk-container-id-1 pre{padding: 0;}#sk-container-id-1 div.sk-toggleable {background-color: white;}#sk-container-id-1 label.sk-toggleable__label {cursor: pointer;display: block;width: 100%;margin-bottom: 0;padding: 0.3em;box-sizing: border-box;text-align: center;}#sk-container-id-1 label.sk-toggleable__label-arrow:before {content: \"▸\";float: left;margin-right: 0.25em;color: #696969;}#sk-container-id-1 label.sk-toggleable__label-arrow:hover:before {color: black;}#sk-container-id-1 div.sk-estimator:hover label.sk-toggleable__label-arrow:before {color: black;}#sk-container-id-1 div.sk-toggleable__content {max-height: 0;max-width: 0;overflow: hidden;text-align: left;background-color: #f0f8ff;}#sk-container-id-1 div.sk-toggleable__content pre {margin: 0.2em;color: black;border-radius: 0.25em;background-color: #f0f8ff;}#sk-container-id-1 input.sk-toggleable__control:checked~div.sk-toggleable__content {max-height: 200px;max-width: 100%;overflow: auto;}#sk-container-id-1 input.sk-toggleable__control:checked~label.sk-toggleable__label-arrow:before {content: \"▾\";}#sk-container-id-1 div.sk-estimator input.sk-toggleable__control:checked~label.sk-toggleable__label {background-color: #d4ebff;}#sk-container-id-1 div.sk-label input.sk-toggleable__control:checked~label.sk-toggleable__label {background-color: #d4ebff;}#sk-container-id-1 input.sk-hidden--visually {border: 0;clip: rect(1px 1px 1px 1px);clip: rect(1px, 1px, 1px, 1px);height: 1px;margin: -1px;overflow: hidden;padding: 0;position: absolute;width: 1px;}#sk-container-id-1 div.sk-estimator {font-family: monospace;background-color: #f0f8ff;border: 1px dotted black;border-radius: 0.25em;box-sizing: border-box;margin-bottom: 0.5em;}#sk-container-id-1 div.sk-estimator:hover {background-color: #d4ebff;}#sk-container-id-1 div.sk-parallel-item::after {content: \"\";width: 100%;border-bottom: 1px solid gray;flex-grow: 1;}#sk-container-id-1 div.sk-label:hover label.sk-toggleable__label {background-color: #d4ebff;}#sk-container-id-1 div.sk-serial::before {content: \"\";position: absolute;border-left: 1px solid gray;box-sizing: border-box;top: 0;bottom: 0;left: 50%;z-index: 0;}#sk-container-id-1 div.sk-serial {display: flex;flex-direction: column;align-items: center;background-color: white;padding-right: 0.2em;padding-left: 0.2em;position: relative;}#sk-container-id-1 div.sk-item {position: relative;z-index: 1;}#sk-container-id-1 div.sk-parallel {display: flex;align-items: stretch;justify-content: center;background-color: white;position: relative;}#sk-container-id-1 div.sk-item::before, #sk-container-id-1 div.sk-parallel-item::before {content: \"\";position: absolute;border-left: 1px solid gray;box-sizing: border-box;top: 0;bottom: 0;left: 50%;z-index: -1;}#sk-container-id-1 div.sk-parallel-item {display: flex;flex-direction: column;z-index: 1;position: relative;background-color: white;}#sk-container-id-1 div.sk-parallel-item:first-child::after {align-self: flex-end;width: 50%;}#sk-container-id-1 div.sk-parallel-item:last-child::after {align-self: flex-start;width: 50%;}#sk-container-id-1 div.sk-parallel-item:only-child::after {width: 0;}#sk-container-id-1 div.sk-dashed-wrapped {border: 1px dashed gray;margin: 0 0.4em 0.5em 0.4em;box-sizing: border-box;padding-bottom: 0.4em;background-color: white;}#sk-container-id-1 div.sk-label label {font-family: monospace;font-weight: bold;display: inline-block;line-height: 1.2em;}#sk-container-id-1 div.sk-label-container {text-align: center;}#sk-container-id-1 div.sk-container {/* jupyter's `normalize.less` sets `[hidden] { display: none; }` but bootstrap.min.css set `[hidden] { display: none !important; }` so we also need the `!important` here to be able to override the default hidden behavior on the sphinx rendered scikit-learn.org. See: https://github.com/scikit-learn/scikit-learn/issues/21755 */display: inline-block !important;position: relative;}#sk-container-id-1 div.sk-text-repr-fallback {display: none;}</style><div id=\"sk-container-id-1\" class=\"sk-top-container\"><div class=\"sk-text-repr-fallback\"><pre>LinearRegression()</pre><b>In a Jupyter environment, please rerun this cell to show the HTML representation or trust the notebook. <br />On GitHub, the HTML representation is unable to render, please try loading this page with nbviewer.org.</b></div><div class=\"sk-container\" hidden><div class=\"sk-item\"><div class=\"sk-estimator sk-toggleable\"><input class=\"sk-toggleable__control sk-hidden--visually\" id=\"sk-estimator-id-1\" type=\"checkbox\" checked><label for=\"sk-estimator-id-1\" class=\"sk-toggleable__label sk-toggleable__label-arrow\">LinearRegression</label><div class=\"sk-toggleable__content\"><pre>LinearRegression()</pre></div></div></div></div></div>"
      ],
      "text/plain": [
       "LinearRegression()"
      ]
     },
     "execution_count": 48,
     "metadata": {},
     "output_type": "execute_result"
    }
   ],
   "source": [
    "%%time\n",
    "\n",
    "model = LinearRegression()\n",
    "model.fit(features_train, target_train)"
   ]
  },
  {
   "cell_type": "code",
   "execution_count": 50,
   "metadata": {},
   "outputs": [
    {
     "name": "stdout",
     "output_type": "stream",
     "text": [
      "RMSE for train set: 3030.918640114626\n",
      "RMSE for valid set: 3011.971271674251\n",
      "RMSE for test set: 3037.850419864315\n",
      "CPU times: user 138 ms, sys: 43.6 ms, total: 181 ms\n",
      "Wall time: 75.4 ms\n"
     ]
    }
   ],
   "source": [
    "%%time\n",
    "\n",
    "pred_train = model.predict(features_train)\n",
    "pred_valid = model.predict(features_valid)\n",
    "pred_test = model.predict(features_test)\n",
    "\n",
    "print('RMSE for train set:', rmse(target_train, pred_train))\n",
    "print('RMSE for valid set:', rmse(target_valid, pred_valid))\n",
    "print('RMSE for test set:', rmse(target_test, pred_test))"
   ]
  },
  {
   "cell_type": "markdown",
   "metadata": {},
   "source": [
    "#### 3.2.2 Decision Tree Model"
   ]
  },
  {
   "cell_type": "code",
   "execution_count": 52,
   "metadata": {
    "scrolled": true
   },
   "outputs": [
    {
     "name": "stdout",
     "output_type": "stream",
     "text": [
      "At depth: 1\n",
      "RMSE for train set: 3729.1323679638263\n",
      "RMSE for valid set: 3697.670103660782\n",
      "\n",
      "At depth: 2\n",
      "RMSE for train set: 3241.059700567706\n",
      "RMSE for valid set: 3205.49677756293\n",
      "\n",
      "At depth: 3\n",
      "RMSE for train set: 2942.906508858404\n",
      "RMSE for valid set: 2919.114762222325\n",
      "\n",
      "At depth: 4\n",
      "RMSE for train set: 2650.1596787676413\n",
      "RMSE for valid set: 2644.0906920658895\n",
      "\n",
      "At depth: 5\n",
      "RMSE for train set: 2435.23381158589\n",
      "RMSE for valid set: 2431.1877485040036\n",
      "\n",
      "At depth: 6\n",
      "RMSE for train set: 2286.4056393546994\n",
      "RMSE for valid set: 2292.540642397936\n",
      "\n",
      "At depth: 7\n",
      "RMSE for train set: 2167.1831682255515\n",
      "RMSE for valid set: 2172.709503630197\n",
      "\n",
      "At depth: 8\n",
      "RMSE for train set: 2080.8215792004166\n",
      "RMSE for valid set: 2096.0714791510723\n",
      "\n",
      "At depth: 9\n",
      "RMSE for train set: 2008.3450265866131\n",
      "RMSE for valid set: 2043.4153109832464\n",
      "\n",
      "At depth: 10\n",
      "RMSE for train set: 1939.0746993037696\n",
      "RMSE for valid set: 2000.0033237554953\n",
      "\n",
      "At depth: 11\n",
      "RMSE for train set: 1865.0740262229383\n",
      "RMSE for valid set: 1962.7405935568277\n",
      "\n",
      "At depth: 12\n",
      "RMSE for train set: 1786.6661034136011\n",
      "RMSE for valid set: 1948.7103503271387\n",
      "\n",
      "At depth: 13\n",
      "RMSE for train set: 1705.1819863177327\n",
      "RMSE for valid set: 1942.4297794311537\n",
      "\n",
      "At depth: 14\n",
      "RMSE for train set: 1623.0754322235398\n",
      "RMSE for valid set: 1937.7136611767155\n",
      "\n",
      "At depth: 15\n",
      "RMSE for train set: 1541.8505258194984\n",
      "RMSE for valid set: 1945.7501582855116\n",
      "\n"
     ]
    }
   ],
   "source": [
    "# hyperparameter tuning\n",
    "for depth in range (1,16):\n",
    "    model = DecisionTreeRegressor(max_depth= depth)\n",
    "    model.fit(features_train, target_train)\n",
    "    \n",
    "    pred_train = model.predict(features_train)\n",
    "    pred_valid = model.predict(features_valid)\n",
    "    \n",
    "    print('At depth:', depth)\n",
    "    print('RMSE for train set:', rmse(target_train, pred_train))\n",
    "    print('RMSE for valid set:', rmse(target_valid, pred_valid))\n",
    "    print()"
   ]
  },
  {
   "cell_type": "markdown",
   "metadata": {},
   "source": [
    "**Analysis Results**\n",
    "\n",
    "From the above hyperparameter results, **the best depth is 8**. This is because the difference in RMSE values between the train set and the validation set is not significant (indicating no overfitting), and it is the lowest among depths 1 to 8."
   ]
  },
  {
   "cell_type": "code",
   "execution_count": 53,
   "metadata": {},
   "outputs": [
    {
     "name": "stdout",
     "output_type": "stream",
     "text": [
      "CPU times: user 338 ms, sys: 7.1 ms, total: 345 ms\n",
      "Wall time: 348 ms\n"
     ]
    },
    {
     "data": {
      "text/html": [
       "<style>#sk-container-id-2 {color: black;}#sk-container-id-2 pre{padding: 0;}#sk-container-id-2 div.sk-toggleable {background-color: white;}#sk-container-id-2 label.sk-toggleable__label {cursor: pointer;display: block;width: 100%;margin-bottom: 0;padding: 0.3em;box-sizing: border-box;text-align: center;}#sk-container-id-2 label.sk-toggleable__label-arrow:before {content: \"▸\";float: left;margin-right: 0.25em;color: #696969;}#sk-container-id-2 label.sk-toggleable__label-arrow:hover:before {color: black;}#sk-container-id-2 div.sk-estimator:hover label.sk-toggleable__label-arrow:before {color: black;}#sk-container-id-2 div.sk-toggleable__content {max-height: 0;max-width: 0;overflow: hidden;text-align: left;background-color: #f0f8ff;}#sk-container-id-2 div.sk-toggleable__content pre {margin: 0.2em;color: black;border-radius: 0.25em;background-color: #f0f8ff;}#sk-container-id-2 input.sk-toggleable__control:checked~div.sk-toggleable__content {max-height: 200px;max-width: 100%;overflow: auto;}#sk-container-id-2 input.sk-toggleable__control:checked~label.sk-toggleable__label-arrow:before {content: \"▾\";}#sk-container-id-2 div.sk-estimator input.sk-toggleable__control:checked~label.sk-toggleable__label {background-color: #d4ebff;}#sk-container-id-2 div.sk-label input.sk-toggleable__control:checked~label.sk-toggleable__label {background-color: #d4ebff;}#sk-container-id-2 input.sk-hidden--visually {border: 0;clip: rect(1px 1px 1px 1px);clip: rect(1px, 1px, 1px, 1px);height: 1px;margin: -1px;overflow: hidden;padding: 0;position: absolute;width: 1px;}#sk-container-id-2 div.sk-estimator {font-family: monospace;background-color: #f0f8ff;border: 1px dotted black;border-radius: 0.25em;box-sizing: border-box;margin-bottom: 0.5em;}#sk-container-id-2 div.sk-estimator:hover {background-color: #d4ebff;}#sk-container-id-2 div.sk-parallel-item::after {content: \"\";width: 100%;border-bottom: 1px solid gray;flex-grow: 1;}#sk-container-id-2 div.sk-label:hover label.sk-toggleable__label {background-color: #d4ebff;}#sk-container-id-2 div.sk-serial::before {content: \"\";position: absolute;border-left: 1px solid gray;box-sizing: border-box;top: 0;bottom: 0;left: 50%;z-index: 0;}#sk-container-id-2 div.sk-serial {display: flex;flex-direction: column;align-items: center;background-color: white;padding-right: 0.2em;padding-left: 0.2em;position: relative;}#sk-container-id-2 div.sk-item {position: relative;z-index: 1;}#sk-container-id-2 div.sk-parallel {display: flex;align-items: stretch;justify-content: center;background-color: white;position: relative;}#sk-container-id-2 div.sk-item::before, #sk-container-id-2 div.sk-parallel-item::before {content: \"\";position: absolute;border-left: 1px solid gray;box-sizing: border-box;top: 0;bottom: 0;left: 50%;z-index: -1;}#sk-container-id-2 div.sk-parallel-item {display: flex;flex-direction: column;z-index: 1;position: relative;background-color: white;}#sk-container-id-2 div.sk-parallel-item:first-child::after {align-self: flex-end;width: 50%;}#sk-container-id-2 div.sk-parallel-item:last-child::after {align-self: flex-start;width: 50%;}#sk-container-id-2 div.sk-parallel-item:only-child::after {width: 0;}#sk-container-id-2 div.sk-dashed-wrapped {border: 1px dashed gray;margin: 0 0.4em 0.5em 0.4em;box-sizing: border-box;padding-bottom: 0.4em;background-color: white;}#sk-container-id-2 div.sk-label label {font-family: monospace;font-weight: bold;display: inline-block;line-height: 1.2em;}#sk-container-id-2 div.sk-label-container {text-align: center;}#sk-container-id-2 div.sk-container {/* jupyter's `normalize.less` sets `[hidden] { display: none; }` but bootstrap.min.css set `[hidden] { display: none !important; }` so we also need the `!important` here to be able to override the default hidden behavior on the sphinx rendered scikit-learn.org. See: https://github.com/scikit-learn/scikit-learn/issues/21755 */display: inline-block !important;position: relative;}#sk-container-id-2 div.sk-text-repr-fallback {display: none;}</style><div id=\"sk-container-id-2\" class=\"sk-top-container\"><div class=\"sk-text-repr-fallback\"><pre>DecisionTreeRegressor(max_depth=8)</pre><b>In a Jupyter environment, please rerun this cell to show the HTML representation or trust the notebook. <br />On GitHub, the HTML representation is unable to render, please try loading this page with nbviewer.org.</b></div><div class=\"sk-container\" hidden><div class=\"sk-item\"><div class=\"sk-estimator sk-toggleable\"><input class=\"sk-toggleable__control sk-hidden--visually\" id=\"sk-estimator-id-2\" type=\"checkbox\" checked><label for=\"sk-estimator-id-2\" class=\"sk-toggleable__label sk-toggleable__label-arrow\">DecisionTreeRegressor</label><div class=\"sk-toggleable__content\"><pre>DecisionTreeRegressor(max_depth=8)</pre></div></div></div></div></div>"
      ],
      "text/plain": [
       "DecisionTreeRegressor(max_depth=8)"
      ]
     },
     "execution_count": 53,
     "metadata": {},
     "output_type": "execute_result"
    }
   ],
   "source": [
    "%%time\n",
    "\n",
    "model = DecisionTreeRegressor(max_depth = 8)\n",
    "model.fit(features_train, target_train)"
   ]
  },
  {
   "cell_type": "code",
   "execution_count": 54,
   "metadata": {},
   "outputs": [
    {
     "name": "stdout",
     "output_type": "stream",
     "text": [
      "RMSE for train set: 2080.8215792004166\n",
      "RMSE for valid set: 2096.018677132617\n",
      "RMSE for test set: 2107.0953101300224\n",
      "CPU times: user 47.7 ms, sys: 7.14 ms, total: 54.8 ms\n",
      "Wall time: 80.4 ms\n"
     ]
    }
   ],
   "source": [
    "%%time\n",
    "\n",
    "pred_train = model.predict(features_train)\n",
    "pred_valid = model.predict(features_valid)\n",
    "pred_test = model.predict(features_test)\n",
    "\n",
    "print('RMSE for train set:', rmse(target_train, pred_train))\n",
    "print('RMSE for valid set:', rmse(target_valid, pred_valid))\n",
    "print('RMSE for test set:', rmse(target_test, pred_test))"
   ]
  },
  {
   "cell_type": "markdown",
   "metadata": {},
   "source": [
    "**Findings related to the comparison of Linear Regression and Decision Tree Regressor:**\n",
    "\n",
    "1. In terms of time, the Linear Regression model takes 384 ms to train the model and 114 ms to predict.\n",
    "2. In terms of time, the Decision Tree Regressor model takes 532 ms to train the model and 53.4 ms to predict.\n",
    "3. In terms of RMSE values, the results for the Linear Regression model are as follows:\n",
    "    - RMSE for the train set: 3030.918640114626\n",
    "    - RMSE for the validation set: 3011.971271674251\n",
    "    - RMSE for the test set: 3037.850419864315\n",
    "4. In terms of RMSE values, the results for the Decision Tree Regressor model are as follows:\n",
    "    - RMSE for the train set: 2080.8215792004166\n",
    "    - RMSE for the validation set: 2096.1324636142726\n",
    "    - RMSE for the test set: 2108.0985267118494\n",
    "5. In terms of processing time, Linear Regression has a slight advantage (although the time difference is not significant). However, the RMSE values are better when using the Decision Tree Regressor model."
   ]
  },
  {
   "cell_type": "markdown",
   "metadata": {},
   "source": [
    "#### 3.2.3 Random Forest Model"
   ]
  },
  {
   "cell_type": "code",
   "execution_count": 55,
   "metadata": {},
   "outputs": [
    {
     "name": "stdout",
     "output_type": "stream",
     "text": [
      "RMSE for train set at max_depth: 1 and n_estimator:  50 is: 3729.1332192053783\n",
      "RMSE for valid set at max_depth: 1 and n_estimator:  50 is: 3697.667511695172\n",
      "\n",
      "RMSE for train set at max_depth: 1 and n_estimator:  100 is: 3729.132500513027\n",
      "RMSE for valid set at max_depth: 1 and n_estimator:  100 is: 3697.6679485533546\n",
      "\n",
      "RMSE for train set at max_depth: 1 and n_estimator:  150 is: 3727.6692429393274\n",
      "RMSE for valid set at max_depth: 1 and n_estimator:  150 is: 3696.264514371823\n",
      "\n",
      "RMSE for train set at max_depth: 1 and n_estimator:  200 is: 3726.9458857162945\n",
      "RMSE for valid set at max_depth: 1 and n_estimator:  200 is: 3695.5691923813456\n",
      "\n",
      "RMSE for train set at max_depth: 1 and n_estimator:  500 is: 3726.504423321379\n",
      "RMSE for valid set at max_depth: 1 and n_estimator:  500 is: 3695.14375550419\n",
      "\n",
      "RMSE for train set at max_depth: 2 and n_estimator:  50 is: 3240.124510771355\n",
      "RMSE for valid set at max_depth: 2 and n_estimator:  50 is: 3204.6033277370834\n",
      "\n",
      "RMSE for train set at max_depth: 2 and n_estimator:  100 is: 3240.159385812655\n",
      "RMSE for valid set at max_depth: 2 and n_estimator:  100 is: 3204.4898979128325\n",
      "\n",
      "RMSE for train set at max_depth: 2 and n_estimator:  150 is: 3238.6597283129213\n",
      "RMSE for valid set at max_depth: 2 and n_estimator:  150 is: 3203.040674003294\n",
      "\n",
      "RMSE for train set at max_depth: 2 and n_estimator:  200 is: 3237.892907552298\n",
      "RMSE for valid set at max_depth: 2 and n_estimator:  200 is: 3202.2902227765376\n",
      "\n",
      "RMSE for train set at max_depth: 2 and n_estimator:  500 is: 3237.34001649999\n",
      "RMSE for valid set at max_depth: 2 and n_estimator:  500 is: 3201.692563053218\n",
      "\n",
      "RMSE for train set at max_depth: 6 and n_estimator:  50 is: 2254.927076514235\n",
      "RMSE for valid set at max_depth: 6 and n_estimator:  50 is: 2260.7481526822717\n",
      "\n",
      "RMSE for train set at max_depth: 6 and n_estimator:  100 is: 2254.5734178558737\n",
      "RMSE for valid set at max_depth: 6 and n_estimator:  100 is: 2260.159913482691\n",
      "\n",
      "RMSE for train set at max_depth: 6 and n_estimator:  150 is: 2253.810847335156\n",
      "RMSE for valid set at max_depth: 6 and n_estimator:  150 is: 2259.059162598387\n",
      "\n",
      "RMSE for train set at max_depth: 6 and n_estimator:  200 is: 2252.589681285268\n",
      "RMSE for valid set at max_depth: 6 and n_estimator:  200 is: 2257.918835313057\n",
      "\n",
      "RMSE for train set at max_depth: 6 and n_estimator:  500 is: 2252.4569403460787\n",
      "RMSE for valid set at max_depth: 6 and n_estimator:  500 is: 2257.842838005861\n",
      "\n",
      "RMSE for train set at max_depth: 8 and n_estimator:  50 is: 2035.7724074714147\n",
      "RMSE for valid set at max_depth: 8 and n_estimator:  50 is: 2049.787179655765\n",
      "\n",
      "RMSE for train set at max_depth: 8 and n_estimator:  100 is: 2034.3409833853889\n",
      "RMSE for valid set at max_depth: 8 and n_estimator:  100 is: 2048.320877559918\n",
      "\n",
      "RMSE for train set at max_depth: 8 and n_estimator:  150 is: 2033.862649565039\n",
      "RMSE for valid set at max_depth: 8 and n_estimator:  150 is: 2047.5903202446389\n",
      "\n",
      "RMSE for train set at max_depth: 8 and n_estimator:  200 is: 2032.9603534810776\n",
      "RMSE for valid set at max_depth: 8 and n_estimator:  200 is: 2046.7549186999825\n",
      "\n",
      "RMSE for train set at max_depth: 8 and n_estimator:  500 is: 2032.4074965278278\n",
      "RMSE for valid set at max_depth: 8 and n_estimator:  500 is: 2046.0766270287832\n",
      "\n",
      "RMSE for train set at max_depth: 10 and n_estimator:  50 is: 1879.3276393482427\n",
      "RMSE for valid set at max_depth: 10 and n_estimator:  50 is: 1930.7685553360836\n",
      "\n",
      "RMSE for train set at max_depth: 10 and n_estimator:  100 is: 1877.8390681464205\n",
      "RMSE for valid set at max_depth: 10 and n_estimator:  100 is: 1929.6111216742217\n",
      "\n",
      "RMSE for train set at max_depth: 10 and n_estimator:  150 is: 1877.4215533955867\n",
      "RMSE for valid set at max_depth: 10 and n_estimator:  150 is: 1928.931112826858\n",
      "\n",
      "RMSE for train set at max_depth: 10 and n_estimator:  200 is: 1876.7731809341003\n",
      "RMSE for valid set at max_depth: 10 and n_estimator:  200 is: 1928.4230150916612\n",
      "\n",
      "RMSE for train set at max_depth: 10 and n_estimator:  500 is: 1876.1260877825907\n",
      "RMSE for valid set at max_depth: 10 and n_estimator:  500 is: 1927.9433676342312\n",
      "\n"
     ]
    }
   ],
   "source": [
    "max_depth_list = [1,2,6,8,10]\n",
    "n_estimator_list = [50, 100, 150, 200, 500]\n",
    "\n",
    "for depth in max_depth_list:\n",
    "    for est in n_estimator_list:\n",
    "        model = RandomForestRegressor(max_depth=depth, n_estimators = est, random_state = 42)\n",
    "        model.fit(features_train, target_train)\n",
    "        \n",
    "        pred_train = model.predict(features_train)\n",
    "        pred_valid = model.predict(features_valid)\n",
    "        \n",
    "        print('RMSE for train set at max_depth:', depth, 'and n_estimator: ', est, 'is:', rmse(target_train, pred_train))\n",
    "        print('RMSE for valid set at max_depth:', depth, 'and n_estimator: ', est, 'is:', rmse(target_valid, pred_valid))\n",
    "        print()"
   ]
  },
  {
   "cell_type": "markdown",
   "metadata": {},
   "source": [
    "**Analysis Results**\n",
    "\n",
    "From the above hyperparameter results, **the best depth is 8 and n_esimator is 200**. This is because the difference in RMSE values between the train set and the validation set is not significant (indicating no overfitting), and it is the lowest among depths 1 to 8."
   ]
  },
  {
   "cell_type": "code",
   "execution_count": 56,
   "metadata": {},
   "outputs": [
    {
     "name": "stdout",
     "output_type": "stream",
     "text": [
      "CPU times: user 45 s, sys: 307 ms, total: 45.3 s\n",
      "Wall time: 46.2 s\n"
     ]
    },
    {
     "data": {
      "text/html": [
       "<style>#sk-container-id-3 {color: black;}#sk-container-id-3 pre{padding: 0;}#sk-container-id-3 div.sk-toggleable {background-color: white;}#sk-container-id-3 label.sk-toggleable__label {cursor: pointer;display: block;width: 100%;margin-bottom: 0;padding: 0.3em;box-sizing: border-box;text-align: center;}#sk-container-id-3 label.sk-toggleable__label-arrow:before {content: \"▸\";float: left;margin-right: 0.25em;color: #696969;}#sk-container-id-3 label.sk-toggleable__label-arrow:hover:before {color: black;}#sk-container-id-3 div.sk-estimator:hover label.sk-toggleable__label-arrow:before {color: black;}#sk-container-id-3 div.sk-toggleable__content {max-height: 0;max-width: 0;overflow: hidden;text-align: left;background-color: #f0f8ff;}#sk-container-id-3 div.sk-toggleable__content pre {margin: 0.2em;color: black;border-radius: 0.25em;background-color: #f0f8ff;}#sk-container-id-3 input.sk-toggleable__control:checked~div.sk-toggleable__content {max-height: 200px;max-width: 100%;overflow: auto;}#sk-container-id-3 input.sk-toggleable__control:checked~label.sk-toggleable__label-arrow:before {content: \"▾\";}#sk-container-id-3 div.sk-estimator input.sk-toggleable__control:checked~label.sk-toggleable__label {background-color: #d4ebff;}#sk-container-id-3 div.sk-label input.sk-toggleable__control:checked~label.sk-toggleable__label {background-color: #d4ebff;}#sk-container-id-3 input.sk-hidden--visually {border: 0;clip: rect(1px 1px 1px 1px);clip: rect(1px, 1px, 1px, 1px);height: 1px;margin: -1px;overflow: hidden;padding: 0;position: absolute;width: 1px;}#sk-container-id-3 div.sk-estimator {font-family: monospace;background-color: #f0f8ff;border: 1px dotted black;border-radius: 0.25em;box-sizing: border-box;margin-bottom: 0.5em;}#sk-container-id-3 div.sk-estimator:hover {background-color: #d4ebff;}#sk-container-id-3 div.sk-parallel-item::after {content: \"\";width: 100%;border-bottom: 1px solid gray;flex-grow: 1;}#sk-container-id-3 div.sk-label:hover label.sk-toggleable__label {background-color: #d4ebff;}#sk-container-id-3 div.sk-serial::before {content: \"\";position: absolute;border-left: 1px solid gray;box-sizing: border-box;top: 0;bottom: 0;left: 50%;z-index: 0;}#sk-container-id-3 div.sk-serial {display: flex;flex-direction: column;align-items: center;background-color: white;padding-right: 0.2em;padding-left: 0.2em;position: relative;}#sk-container-id-3 div.sk-item {position: relative;z-index: 1;}#sk-container-id-3 div.sk-parallel {display: flex;align-items: stretch;justify-content: center;background-color: white;position: relative;}#sk-container-id-3 div.sk-item::before, #sk-container-id-3 div.sk-parallel-item::before {content: \"\";position: absolute;border-left: 1px solid gray;box-sizing: border-box;top: 0;bottom: 0;left: 50%;z-index: -1;}#sk-container-id-3 div.sk-parallel-item {display: flex;flex-direction: column;z-index: 1;position: relative;background-color: white;}#sk-container-id-3 div.sk-parallel-item:first-child::after {align-self: flex-end;width: 50%;}#sk-container-id-3 div.sk-parallel-item:last-child::after {align-self: flex-start;width: 50%;}#sk-container-id-3 div.sk-parallel-item:only-child::after {width: 0;}#sk-container-id-3 div.sk-dashed-wrapped {border: 1px dashed gray;margin: 0 0.4em 0.5em 0.4em;box-sizing: border-box;padding-bottom: 0.4em;background-color: white;}#sk-container-id-3 div.sk-label label {font-family: monospace;font-weight: bold;display: inline-block;line-height: 1.2em;}#sk-container-id-3 div.sk-label-container {text-align: center;}#sk-container-id-3 div.sk-container {/* jupyter's `normalize.less` sets `[hidden] { display: none; }` but bootstrap.min.css set `[hidden] { display: none !important; }` so we also need the `!important` here to be able to override the default hidden behavior on the sphinx rendered scikit-learn.org. See: https://github.com/scikit-learn/scikit-learn/issues/21755 */display: inline-block !important;position: relative;}#sk-container-id-3 div.sk-text-repr-fallback {display: none;}</style><div id=\"sk-container-id-3\" class=\"sk-top-container\"><div class=\"sk-text-repr-fallback\"><pre>RandomForestRegressor(max_depth=8, n_estimators=200, random_state=42)</pre><b>In a Jupyter environment, please rerun this cell to show the HTML representation or trust the notebook. <br />On GitHub, the HTML representation is unable to render, please try loading this page with nbviewer.org.</b></div><div class=\"sk-container\" hidden><div class=\"sk-item\"><div class=\"sk-estimator sk-toggleable\"><input class=\"sk-toggleable__control sk-hidden--visually\" id=\"sk-estimator-id-3\" type=\"checkbox\" checked><label for=\"sk-estimator-id-3\" class=\"sk-toggleable__label sk-toggleable__label-arrow\">RandomForestRegressor</label><div class=\"sk-toggleable__content\"><pre>RandomForestRegressor(max_depth=8, n_estimators=200, random_state=42)</pre></div></div></div></div></div>"
      ],
      "text/plain": [
       "RandomForestRegressor(max_depth=8, n_estimators=200, random_state=42)"
      ]
     },
     "execution_count": 56,
     "metadata": {},
     "output_type": "execute_result"
    }
   ],
   "source": [
    "%%time\n",
    "\n",
    "model = RandomForestRegressor(max_depth=8, n_estimators = 200, random_state = 42)\n",
    "model.fit(features_train, target_train)"
   ]
  },
  {
   "cell_type": "code",
   "execution_count": 49,
   "metadata": {},
   "outputs": [
    {
     "name": "stdout",
     "output_type": "stream",
     "text": [
      "RMSE untuk train set: 2032.9603534810776\n",
      "RMSE untuk valid set: 2046.7549186999825\n",
      "RMSE untuk test set: 2062.256812392978\n",
      "CPU times: user 5.2 s, sys: 8 ms, total: 5.2 s\n",
      "Wall time: 5.2 s\n"
     ]
    }
   ],
   "source": [
    "%%time\n",
    "\n",
    "pred_train = model.predict(features_train)\n",
    "pred_valid = model.predict(features_valid)\n",
    "pred_test = model.predict(features_test)\n",
    "\n",
    "print('RMSE untuk train set:', rmse(target_train, pred_train))\n",
    "print('RMSE untuk valid set:', rmse(target_valid, pred_valid))\n",
    "print('RMSE untuk test set:', rmse(target_test, pred_test))"
   ]
  },
  {
   "cell_type": "markdown",
   "metadata": {},
   "source": [
    "**Findings related to the comparison of results between Decision Tree Regressor and Random Forest Regressor:**\n",
    "\n",
    "1. In terms of time, the Decision Tree Regressor model takes 532 ms to train the model and 53.4 ms to predict.\n",
    "2. In terms of time, the Random Forest Regressor model takes 1 minute and 9 seconds to train the model and 5.2 seconds to predict.\n",
    "3. In terms of RMSE values, the results for the Decision Tree Regressor model are as follows:\n",
    "    - RMSE for the train set: 2080.8215792004166\n",
    "    - RMSE for the validation set: 2096.1324636142726\n",
    "    - RMSE for the test set: 2108.0985267118494\n",
    "4. In terms of RMSE values, the results for the Random Forest Regressor model are better, but not significantly so, with the following details:\n",
    "    - RMSE for the train set: 2032.9603534810776\n",
    "    - RMSE for the validation set: 2046.7549186999825\n",
    "    - RMSE for the test set: 2062.256812392978\n",
    "5. In terms of processing time, Linear Regression is more efficient (with a significant time difference). Regarding RMSE values, Random Forest performs better, but the difference is not significant."
   ]
  },
  {
   "cell_type": "markdown",
   "metadata": {},
   "source": [
    "### 3.2.4 CatBoost"
   ]
  },
  {
   "cell_type": "code",
   "execution_count": 57,
   "metadata": {},
   "outputs": [],
   "source": [
    "cat_features = [\n",
    "    'vehicle_type',\n",
    "    'gearbox',\n",
    "    'model',\n",
    "    'fuel_type',\n",
    "    'brand',\n",
    "    'not_repaired'\n",
    "]"
   ]
  },
  {
   "cell_type": "code",
   "execution_count": 58,
   "metadata": {},
   "outputs": [
    {
     "name": "stdout",
     "output_type": "stream",
     "text": [
      "Learning rate set to 0.44013\n",
      "0:\tlearn: 3413.0404799\ttotal: 87.1ms\tremaining: 13s\n",
      "10:\tlearn: 1890.1088519\ttotal: 417ms\tremaining: 5.27s\n",
      "20:\tlearn: 1791.9377095\ttotal: 862ms\tremaining: 5.29s\n",
      "30:\tlearn: 1745.1178163\ttotal: 1.27s\tremaining: 4.87s\n",
      "40:\tlearn: 1709.5208796\ttotal: 1.56s\tremaining: 4.15s\n",
      "50:\tlearn: 1684.0876758\ttotal: 1.81s\tremaining: 3.52s\n",
      "60:\tlearn: 1666.2011964\ttotal: 2.04s\tremaining: 2.97s\n",
      "70:\tlearn: 1652.3268384\ttotal: 2.28s\tremaining: 2.54s\n",
      "80:\tlearn: 1640.6421594\ttotal: 2.51s\tremaining: 2.13s\n",
      "90:\tlearn: 1628.2999583\ttotal: 2.83s\tremaining: 1.83s\n",
      "100:\tlearn: 1616.8838525\ttotal: 3.05s\tremaining: 1.48s\n",
      "110:\tlearn: 1605.1830168\ttotal: 3.29s\tremaining: 1.16s\n",
      "120:\tlearn: 1597.2735540\ttotal: 3.54s\tremaining: 849ms\n",
      "130:\tlearn: 1591.7112680\ttotal: 3.79s\tremaining: 550ms\n",
      "140:\tlearn: 1584.3948860\ttotal: 4.2s\tremaining: 268ms\n",
      "149:\tlearn: 1578.3880635\ttotal: 4.42s\tremaining: 0us\n",
      "CPU times: user 20.5 s, sys: 1.13 s, total: 21.7 s\n",
      "Wall time: 4.8 s\n"
     ]
    },
    {
     "data": {
      "text/plain": [
       "<catboost.core.CatBoostRegressor at 0x131158f70>"
      ]
     },
     "execution_count": 58,
     "metadata": {},
     "output_type": "execute_result"
    }
   ],
   "source": [
    "%%time\n",
    "\n",
    "model = CatBoostRegressor(iterations= 150, random_seed = 42)\n",
    "model.fit(df_features_train, df_target_train, cat_features=cat_features, verbose=10)"
   ]
  },
  {
   "cell_type": "code",
   "execution_count": 59,
   "metadata": {},
   "outputs": [
    {
     "name": "stdout",
     "output_type": "stream",
     "text": [
      "RMSE for train set: 1575.4128372253374\n",
      "RMSE for valid set: 1615.0450134140049\n",
      "RMSE for test set: 1645.5720694106196\n",
      "CPU times: user 518 ms, sys: 18.7 ms, total: 537 ms\n",
      "Wall time: 393 ms\n"
     ]
    }
   ],
   "source": [
    "%%time\n",
    "\n",
    "pred_train = model.predict(df_features_train)\n",
    "pred_valid = model.predict(df_features_valid)\n",
    "pred_test = model.predict(df_features_test)\n",
    "\n",
    "print('RMSE for train set:', rmse(df_target_train, pred_train))\n",
    "print('RMSE for valid set:', rmse(df_target_valid, pred_valid))\n",
    "print('RMSE for test set:', rmse(df_target_test, pred_test))"
   ]
  },
  {
   "cell_type": "markdown",
   "metadata": {},
   "source": [
    "**Findings regarding the differences between Decision Tree and CatBoost:**\n",
    "\n",
    "1. In terms of time, the Decision Tree Regressor model takes 532 ms to train the model and 53.4 ms to predict.\n",
    "2. In terms of time, the CatBoost model takes 26.4 seconds to train the model and 522 ms to predict.\n",
    "3. In terms of RMSE values, the results for the Decision Tree Regressor model are as follows:\n",
    "    - RMSE for the train set: 2080.8215792004166\n",
    "    - RMSE for the validation set: 2096.1324636142726\n",
    "    - RMSE for the test set: 2108.0985267118494\n",
    "4. In terms of RMSE values, the results for the CatBoost model are significantly better with the following results:\n",
    "    - RMSE for the train set: 1575.4128372253374\n",
    "    - RMSE for the validation set: 1615.0450134140049\n",
    "    - RMSE for the test set: 1645.5720694106196\n",
    "5. In terms of processing time, Linear Regression is more efficient (with an insignificant time difference). Regarding RMSE values, CatBoost performs significantly better."
   ]
  },
  {
   "cell_type": "markdown",
   "metadata": {},
   "source": [
    "[Back to Contents](#back)"
   ]
  },
  {
   "cell_type": "markdown",
   "metadata": {},
   "source": [
    "# General Conclusion <a id='end'></a>"
   ]
  },
  {
   "cell_type": "markdown",
   "metadata": {},
   "source": [
    "From the 4 models that have been trained along with the comparison findings for each model, it can be concluded that the CatBoost model has the best (lowest) RMSE values with processing time that is not significantly different from the Decision Tree Regressor.\n",
    "\n",
    "[Back to Contents](#back)"
   ]
  }
 ],
 "metadata": {
  "kernelspec": {
   "display_name": "Python 3 (ipykernel)",
   "language": "python",
   "name": "python3"
  },
  "language_info": {
   "codemirror_mode": {
    "name": "ipython",
    "version": 3
   },
   "file_extension": ".py",
   "mimetype": "text/x-python",
   "name": "python",
   "nbconvert_exporter": "python",
   "pygments_lexer": "ipython3",
   "version": "3.10.11"
  },
  "toc": {
   "base_numbering": 1,
   "nav_menu": {},
   "number_sections": true,
   "sideBar": true,
   "skip_h1_title": true,
   "title_cell": "Table of Contents",
   "title_sidebar": "Contents",
   "toc_cell": false,
   "toc_position": {},
   "toc_section_display": true,
   "toc_window_display": false
  }
 },
 "nbformat": 4,
 "nbformat_minor": 2
}
